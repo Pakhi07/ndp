{
 "cells": [
  {
   "cell_type": "code",
   "execution_count": 1,
   "id": "0a277801",
   "metadata": {},
   "outputs": [
    {
     "name": "stdout",
     "output_type": "stream",
     "text": [
      "Requirement already satisfied: pygraphviz in ./env/lib/python3.10/site-packages (1.13)\n",
      "Note: you may need to restart the kernel to use updated packages.\n"
     ]
    }
   ],
   "source": [
    "%pip install pygraphviz\n",
    "# !sudo apt-get install software-properties-common\n",
    "# !sudo apt-get install graphviz graphviz-dev"
   ]
  },
  {
   "cell_type": "code",
   "execution_count": 2,
   "id": "8c0017bf",
   "metadata": {},
   "outputs": [
    {
     "name": "stdout",
     "output_type": "stream",
     "text": [
      "Requirement already satisfied: torch_geometric in ./env/lib/python3.10/site-packages (2.5.3)\n",
      "Requirement already satisfied: numpy in ./env/lib/python3.10/site-packages (from torch_geometric) (2.0.0)\n",
      "Requirement already satisfied: aiohttp in ./env/lib/python3.10/site-packages (from torch_geometric) (3.9.5)\n",
      "Requirement already satisfied: requests in ./env/lib/python3.10/site-packages (from torch_geometric) (2.32.3)\n",
      "Requirement already satisfied: scikit-learn in ./env/lib/python3.10/site-packages (from torch_geometric) (1.5.1)\n",
      "Requirement already satisfied: jinja2 in ./env/lib/python3.10/site-packages (from torch_geometric) (3.1.4)\n",
      "Requirement already satisfied: psutil>=5.8.0 in ./env/lib/python3.10/site-packages (from torch_geometric) (6.0.0)\n",
      "Requirement already satisfied: fsspec in ./env/lib/python3.10/site-packages (from torch_geometric) (2024.6.1)\n",
      "Requirement already satisfied: pyparsing in ./env/lib/python3.10/site-packages (from torch_geometric) (3.1.2)\n",
      "Requirement already satisfied: tqdm in ./env/lib/python3.10/site-packages (from torch_geometric) (4.66.4)\n",
      "Requirement already satisfied: scipy in ./env/lib/python3.10/site-packages (from torch_geometric) (1.14.0)\n",
      "Requirement already satisfied: frozenlist>=1.1.1 in ./env/lib/python3.10/site-packages (from aiohttp->torch_geometric) (1.4.1)\n",
      "Requirement already satisfied: multidict<7.0,>=4.5 in ./env/lib/python3.10/site-packages (from aiohttp->torch_geometric) (6.0.5)\n",
      "Requirement already satisfied: aiosignal>=1.1.2 in ./env/lib/python3.10/site-packages (from aiohttp->torch_geometric) (1.3.1)\n",
      "Requirement already satisfied: yarl<2.0,>=1.0 in ./env/lib/python3.10/site-packages (from aiohttp->torch_geometric) (1.9.4)\n",
      "Requirement already satisfied: async-timeout<5.0,>=4.0 in ./env/lib/python3.10/site-packages (from aiohttp->torch_geometric) (4.0.3)\n",
      "Requirement already satisfied: attrs>=17.3.0 in ./env/lib/python3.10/site-packages (from aiohttp->torch_geometric) (23.2.0)\n",
      "Requirement already satisfied: MarkupSafe>=2.0 in ./env/lib/python3.10/site-packages (from jinja2->torch_geometric) (2.1.5)\n",
      "Requirement already satisfied: charset-normalizer<4,>=2 in ./env/lib/python3.10/site-packages (from requests->torch_geometric) (3.3.2)\n",
      "Requirement already satisfied: certifi>=2017.4.17 in ./env/lib/python3.10/site-packages (from requests->torch_geometric) (2024.7.4)\n",
      "Requirement already satisfied: urllib3<3,>=1.21.1 in ./env/lib/python3.10/site-packages (from requests->torch_geometric) (2.2.2)\n",
      "Requirement already satisfied: idna<4,>=2.5 in ./env/lib/python3.10/site-packages (from requests->torch_geometric) (3.7)\n",
      "Requirement already satisfied: threadpoolctl>=3.1.0 in ./env/lib/python3.10/site-packages (from scikit-learn->torch_geometric) (3.5.0)\n",
      "Requirement already satisfied: joblib>=1.2.0 in ./env/lib/python3.10/site-packages (from scikit-learn->torch_geometric) (1.4.2)\n",
      "Note: you may need to restart the kernel to use updated packages.\n"
     ]
    }
   ],
   "source": [
    "%pip install torch_geometric"
   ]
  },
  {
   "cell_type": "code",
   "execution_count": 1,
   "id": "2b390c49-1faf-4534-bfe4-cef8c9884549",
   "metadata": {},
   "outputs": [
    {
     "name": "stderr",
     "output_type": "stream",
     "text": [
      "/home/pakhi/Documents/gsoc/gsoc-2024/ndp/env/lib/python3.10/site-packages/torch/cuda/__init__.py:619: UserWarning: Can't initialize NVML\n",
      "  warnings.warn(\"Can't initialize NVML\")\n"
     ]
    }
   ],
   "source": [
    "from graph import Graph\n",
    "from graph_nca import GraphNCA\n",
    "# from growing_nn.graph.generated_network import GeneratedNetwork\n",
    "# from ezrl.optimizer import RLOptimizer\n",
    "# from ezrl.policy import GymPolicy\n",
    "# from ezrl.algorithms.reinforce import ReinforceOptimizer"
   ]
  },
  {
   "cell_type": "code",
   "execution_count": 2,
   "id": "4bf11d0d-2401-4454-8698-6a6844b03128",
   "metadata": {},
   "outputs": [],
   "source": [
    "NUM_OPERATIONS = 3\n",
    "NUM_ACTIVATIONS = 2\n",
    "NUM_HIDDEN_CHANNELS = 4\n",
    "\n",
    "NUM_CHANNELS = GraphNCA.get_number_of_channels(NUM_OPERATIONS, NUM_ACTIVATIONS, NUM_HIDDEN_CHANNELS)"
   ]
  },
  {
   "cell_type": "code",
   "execution_count": 3,
   "id": "989b9c1a-b2f4-487b-b428-d875095eedfc",
   "metadata": {},
   "outputs": [
    {
     "data": {
      "text/plain": [
       "11"
      ]
     },
     "execution_count": 3,
     "metadata": {},
     "output_type": "execute_result"
    }
   ],
   "source": [
    "NUM_CHANNELS"
   ]
  },
  {
   "cell_type": "code",
   "execution_count": 5,
   "id": "b990a52c-1da2-4f7b-b76a-38f70a3c1f79",
   "metadata": {},
   "outputs": [
    {
     "ename": "KeyError",
     "evalue": "2",
     "output_type": "error",
     "traceback": [
      "\u001b[0;31m---------------------------------------------------------------------------\u001b[0m",
      "\u001b[0;31mKeyError\u001b[0m                                  Traceback (most recent call last)",
      "Cell \u001b[0;32mIn[5], line 14\u001b[0m\n\u001b[1;32m      9\u001b[0m \u001b[38;5;66;03m# edge_dict = {0:[2,3], 1:[2,3], 2:[], 3:[2], 4:[3,1], 5:[4,3], 6:[5,4], 7:[6,3], 8:[2,5,7], 9:[7,8,6]}\u001b[39;00m\n\u001b[1;32m     10\u001b[0m \u001b[38;5;66;03m# x = torch.randn((6, NUM_CHANNELS))\u001b[39;00m\n\u001b[1;32m     11\u001b[0m \u001b[38;5;66;03m# edge_dict = {0:[2, 4], 1:[2, 3, 4], 4:[5], 5:[2, 3], 2:[], 3:[]}\u001b[39;00m\n\u001b[1;32m     13\u001b[0m graph \u001b[38;5;241m=\u001b[39m Graph(x, edge_dict)\n\u001b[0;32m---> 14\u001b[0m image \u001b[38;5;241m=\u001b[39m \u001b[43mgraph\u001b[49m\u001b[38;5;241;43m.\u001b[39;49m\u001b[43mplot\u001b[49m\u001b[43m(\u001b[49m\u001b[43mlabels\u001b[49m\u001b[38;5;241;43m=\u001b[39;49m\u001b[43mlabel_dict\u001b[49m\u001b[43m)\u001b[49m    \n",
      "File \u001b[0;32m~/Documents/gsoc/gsoc-2024/ndp/graph.py:126\u001b[0m, in \u001b[0;36mGraph.plot\u001b[0;34m(self, labels, fig, node_colors)\u001b[0m\n\u001b[1;32m    124\u001b[0m nx\u001b[38;5;241m.\u001b[39mdraw_networkx_nodes(G, pos, node_color\u001b[38;5;241m=\u001b[39mnode_colors)\n\u001b[1;32m    125\u001b[0m nx\u001b[38;5;241m.\u001b[39mdraw_networkx_edges(G, pos)\n\u001b[0;32m--> 126\u001b[0m \u001b[43mnx\u001b[49m\u001b[38;5;241;43m.\u001b[39;49m\u001b[43mdraw_networkx_labels\u001b[49m\u001b[43m(\u001b[49m\u001b[43mG\u001b[49m\u001b[43m,\u001b[49m\u001b[43m \u001b[49m\u001b[43mpos\u001b[49m\u001b[43m,\u001b[49m\u001b[43m \u001b[49m\u001b[43mlabels\u001b[49m\u001b[38;5;241;43m=\u001b[39;49m\u001b[43mlabels\u001b[49m\u001b[43m)\u001b[49m\n\u001b[1;32m    128\u001b[0m canvas\u001b[38;5;241m.\u001b[39mdraw()  \u001b[38;5;66;03m# draw the canvas, cache the renderer\u001b[39;00m\n\u001b[1;32m    130\u001b[0m image \u001b[38;5;241m=\u001b[39m np\u001b[38;5;241m.\u001b[39mfrombuffer(canvas\u001b[38;5;241m.\u001b[39mtostring_rgb(), dtype\u001b[38;5;241m=\u001b[39m\u001b[38;5;124m\"\u001b[39m\u001b[38;5;124muint8\u001b[39m\u001b[38;5;124m\"\u001b[39m)\n",
      "File \u001b[0;32m~/Documents/gsoc/gsoc-2024/ndp/env/lib/python3.10/site-packages/networkx/drawing/nx_pylab.py:1147\u001b[0m, in \u001b[0;36mdraw_networkx_labels\u001b[0;34m(G, pos, labels, font_size, font_color, font_family, font_weight, alpha, bbox, horizontalalignment, verticalalignment, ax, clip_on, hide_ticks)\u001b[0m\n\u001b[1;32m   1145\u001b[0m text_items \u001b[38;5;241m=\u001b[39m {}  \u001b[38;5;66;03m# there is no text collection so we'll fake one\u001b[39;00m\n\u001b[1;32m   1146\u001b[0m \u001b[38;5;28;01mfor\u001b[39;00m n, label \u001b[38;5;129;01min\u001b[39;00m labels\u001b[38;5;241m.\u001b[39mitems():\n\u001b[0;32m-> 1147\u001b[0m     (x, y) \u001b[38;5;241m=\u001b[39m \u001b[43mpos\u001b[49m\u001b[43m[\u001b[49m\u001b[43mn\u001b[49m\u001b[43m]\u001b[49m\n\u001b[1;32m   1148\u001b[0m     \u001b[38;5;28;01mif\u001b[39;00m \u001b[38;5;129;01mnot\u001b[39;00m \u001b[38;5;28misinstance\u001b[39m(label, \u001b[38;5;28mstr\u001b[39m):\n\u001b[1;32m   1149\u001b[0m         label \u001b[38;5;241m=\u001b[39m \u001b[38;5;28mstr\u001b[39m(label)  \u001b[38;5;66;03m# this makes \"1\" and 1 labeled the same\u001b[39;00m\n",
      "\u001b[0;31mKeyError\u001b[0m: 2"
     ]
    },
    {
     "data": {
      "image/png": "[encoded data removed]",
      "text/plain": [
       "<Figure size 640x480 with 1 Axes>"
      ]
     },
     "metadata": {},
     "output_type": "display_data"
    }
   ],
   "source": [
    "import torch\n",
    "import numpy as np\n",
    "\n",
    "x = torch.randn((2, NUM_CHANNELS))\n",
    "x[0,1] = 1.0\n",
    "\n",
    "edge_dict = {0:[1], 1:[]}\n",
    "label_dict = {0:\"P1\", 1:\"AB\", 2:\"C\", 3:\"D\", 4:\"E\", 5:\"F\", 6:\"G\", 7:\"H\", 8:\"I\", 9:\"J\"}\n",
    "# edge_dict = {0:[2,3], 1:[2,3], 2:[], 3:[2], 4:[3,1], 5:[4,3], 6:[5,4], 7:[6,3], 8:[2,5,7], 9:[7,8,6]}\n",
    "# x = torch.randn((6, NUM_CHANNELS))\n",
    "# edge_dict = {0:[2, 4], 1:[2, 3, 4], 4:[5], 5:[2, 3], 2:[], 3:[]}\n",
    "\n",
    "graph = Graph(x, edge_dict)\n",
    "image = graph.plot(labels=label_dict)    "
   ]
  },
  {
   "cell_type": "code",
   "execution_count": 15,
   "id": "60d5e97a-eb8a-461e-a004-bf16fbfbb831",
   "metadata": {},
   "outputs": [],
   "source": [
    "# Image.fromarray(image).save(\"minimal_net.png\")"
   ]
  },
  {
   "cell_type": "code",
   "execution_count": 16,
   "id": "ecf52f7b-e423-4487-bb71-b8905f6390d0",
   "metadata": {},
   "outputs": [],
   "source": [
    "# print(\"INPUT NODES\", graph.input_nodes)\n",
    "# print(\"OUTPUT NODES\", graph.output_nodes)"
   ]
  },
  {
   "cell_type": "code",
   "execution_count": 17,
   "id": "ffc44c88-37ca-4b20-961c-92384988d269",
   "metadata": {},
   "outputs": [],
   "source": [
    "import torch.distributions as td\n",
    "\n",
    "def loss_fn(logits, actions, rewards):\n",
    "    categorical = td.categorical.Categorical(logits=logits)\n",
    "    log_probs = -categorical.log_prob(actions)\n",
    "    return torch.sum(rewards*log_probs)"
   ]
  },
  {
   "cell_type": "code",
   "execution_count": 18,
   "id": "20256a1d-a3c4-4db3-bc9e-e8c7f54f5508",
   "metadata": {},
   "outputs": [],
   "source": [
    "nca = GraphNCA(graph, NUM_HIDDEN_CHANNELS)\n",
    "optimizer = torch.optim.Adam(nca.parameters(), lr=0.001)"
   ]
  },
  {
   "cell_type": "code",
   "execution_count": 19,
   "id": "26609cca-8507-4149-9cf4-d879121708a2",
   "metadata": {
    "scrolled": true,
    "tags": []
   },
   "outputs": [
    {
     "data": {
      "text/plain": [
       "[Parameter containing:\n",
       " tensor([[-0.0494, -0.1660,  0.0979,  ..., -0.2409,  0.0017,  0.1821],\n",
       "         [-0.1551,  0.1274, -0.2111,  ...,  0.1989,  0.0465, -0.0484],\n",
       "         [-0.1391, -0.1755,  0.0299,  ..., -0.2399, -0.0432,  0.1792],\n",
       "         ...,\n",
       "         [-0.0114,  0.2521, -0.0915,  ...,  0.1343,  0.1675, -0.0096],\n",
       "         [-0.0369,  0.2053, -0.0779,  ..., -0.1024, -0.1541,  0.2027],\n",
       "         [-0.0049,  0.0938, -0.0152,  ...,  0.1543, -0.0760, -0.1034]],\n",
       "        requires_grad=True),\n",
       " Parameter containing:\n",
       " tensor([[ 0.0195,  0.0088,  0.1014,  ...,  0.0041,  0.0292,  0.0778],\n",
       "         [ 0.0135, -0.0946, -0.0834,  ...,  0.1000,  0.0685, -0.0904],\n",
       "         [ 0.0250,  0.0904, -0.0190,  ...,  0.0050, -0.0949, -0.0094],\n",
       "         ...,\n",
       "         [-0.1140,  0.0737, -0.0592,  ...,  0.1049, -0.0541,  0.1061],\n",
       "         [ 0.0417,  0.0531, -0.1035,  ...,  0.1113,  0.0610,  0.0360],\n",
       "         [ 0.0460, -0.0420,  0.0267,  ..., -0.0540,  0.1070, -0.0017]],\n",
       "        requires_grad=True),\n",
       " Parameter containing:\n",
       " tensor([ 0.0126, -0.0225,  0.1024, -0.1075,  0.0188, -0.0778,  0.0081, -0.0851,\n",
       "          0.1192,  0.1034,  0.0007,  0.1004, -0.0464,  0.0092,  0.0253,  0.0868,\n",
       "         -0.1046, -0.0536, -0.0399,  0.1023,  0.0317, -0.1122, -0.0783,  0.0508,\n",
       "          0.0294,  0.0028,  0.0990, -0.0214, -0.1067,  0.0581,  0.1056, -0.0034],\n",
       "        requires_grad=True),\n",
       " Parameter containing:\n",
       " tensor([[-0.0221,  0.0954, -0.0601,  0.0709, -0.1401, -0.0146, -0.0934, -0.1291,\n",
       "          -0.0127, -0.0101,  0.0457, -0.1188, -0.0578,  0.0559,  0.0222,  0.0536,\n",
       "           0.1538,  0.0311,  0.1416,  0.1010,  0.1587, -0.1405, -0.1051, -0.1218,\n",
       "          -0.0802, -0.0032,  0.0195, -0.1002,  0.1008, -0.1267, -0.0679,  0.0126],\n",
       "         [ 0.0221,  0.1736, -0.1026, -0.1578,  0.0074, -0.1068,  0.1015, -0.0848,\n",
       "          -0.1605, -0.1624, -0.0159,  0.0890,  0.0384,  0.1713,  0.0592, -0.0579,\n",
       "           0.0436,  0.1561, -0.1063,  0.0239,  0.0237, -0.0051,  0.0548,  0.1245,\n",
       "          -0.0660, -0.1733,  0.0534,  0.0137, -0.0258,  0.0095,  0.1728, -0.0230],\n",
       "         [-0.0777,  0.0351, -0.0536, -0.1754,  0.0987, -0.0467, -0.1094, -0.0621,\n",
       "          -0.0979,  0.0632,  0.1183, -0.0024,  0.1569,  0.0592,  0.0965,  0.1383,\n",
       "          -0.0563,  0.0084,  0.0403,  0.0824, -0.1639,  0.1590, -0.0138, -0.1731,\n",
       "          -0.1409, -0.0275, -0.1051,  0.0210, -0.0395, -0.0098,  0.1249,  0.1594],\n",
       "         [ 0.1285,  0.0101, -0.1681,  0.0635, -0.1255,  0.1742, -0.0231, -0.1450,\n",
       "           0.0583, -0.0508,  0.0194,  0.1067,  0.1633,  0.0726, -0.1261, -0.0269,\n",
       "          -0.1231, -0.1721, -0.0185, -0.1338, -0.1169, -0.1219, -0.0643, -0.1233,\n",
       "          -0.0891,  0.1631, -0.1690, -0.0915,  0.0369, -0.0414, -0.1761, -0.1266],\n",
       "         [ 0.0325,  0.0215, -0.1574, -0.0357,  0.0870, -0.1581, -0.0488,  0.1676,\n",
       "          -0.1629,  0.1319, -0.1300, -0.0965, -0.0087,  0.0354,  0.1188, -0.0135,\n",
       "           0.0521,  0.0875,  0.1600, -0.0667, -0.0774,  0.0822, -0.0728,  0.1228,\n",
       "           0.0289,  0.0051,  0.1082,  0.1244,  0.0856, -0.0480,  0.0906, -0.0017],\n",
       "         [ 0.1763,  0.1094, -0.0760,  0.0086,  0.0045,  0.1011,  0.0298,  0.1496,\n",
       "          -0.1348,  0.0743,  0.1185, -0.0282,  0.1314,  0.0115, -0.0806,  0.0552,\n",
       "          -0.0081,  0.0704, -0.1389, -0.0573,  0.0127, -0.1642, -0.1536, -0.1100,\n",
       "          -0.1197,  0.0606,  0.0597,  0.1704,  0.1587,  0.1035, -0.1466, -0.1520],\n",
       "         [ 0.0940,  0.0528, -0.0951,  0.1657,  0.1644, -0.0918,  0.0950,  0.0809,\n",
       "          -0.0797,  0.1277, -0.0857, -0.0306, -0.0336,  0.0322,  0.0916,  0.1129,\n",
       "          -0.1068, -0.1547,  0.1570,  0.1048, -0.0708,  0.1615, -0.0564, -0.0925,\n",
       "           0.0356,  0.0948, -0.0935, -0.1160, -0.0881,  0.1347, -0.0186, -0.0143],\n",
       "         [ 0.1009, -0.0535, -0.0817, -0.1713, -0.0506,  0.0042,  0.1430,  0.0004,\n",
       "          -0.0793,  0.1140, -0.0725,  0.1543,  0.1380,  0.1603,  0.0922,  0.0413,\n",
       "           0.1378,  0.0096, -0.0965, -0.1406,  0.1007, -0.1725,  0.1249, -0.0514,\n",
       "           0.0349, -0.0289,  0.0754, -0.0787,  0.1045,  0.0529, -0.1684,  0.1258],\n",
       "         [ 0.0071, -0.0525,  0.0026,  0.0080, -0.0791,  0.0672,  0.0649, -0.0389,\n",
       "          -0.0318, -0.1725, -0.1474,  0.0056, -0.0719, -0.0145, -0.1330,  0.0488,\n",
       "           0.1531,  0.0078,  0.1427, -0.0950,  0.0753,  0.0574, -0.1218,  0.0842,\n",
       "          -0.0457,  0.0954, -0.1119,  0.1206, -0.0616,  0.0200,  0.0109, -0.1062],\n",
       "         [-0.1085,  0.0457,  0.0137,  0.1277,  0.0448,  0.0152,  0.0014, -0.1234,\n",
       "           0.0495, -0.0769,  0.0589,  0.1745, -0.0750, -0.0078,  0.1436,  0.1476,\n",
       "          -0.0705,  0.1092,  0.0166, -0.0249, -0.0442, -0.0881, -0.1222, -0.0315,\n",
       "           0.1601,  0.0979,  0.0292,  0.1633,  0.0583, -0.0508, -0.1561, -0.0710],\n",
       "         [-0.1013, -0.0957,  0.1298, -0.0913,  0.1570,  0.0976, -0.1371,  0.0704,\n",
       "           0.1420,  0.0799, -0.1000,  0.0897,  0.1455, -0.0103, -0.1515,  0.0589,\n",
       "          -0.1270,  0.0197,  0.0155, -0.0830, -0.0337, -0.0490,  0.0369,  0.1319,\n",
       "           0.0993, -0.0168,  0.1227,  0.1398,  0.0951, -0.1295, -0.1700,  0.0434],\n",
       "         [ 0.0561,  0.0985,  0.0298,  0.1258,  0.0612,  0.0418, -0.1555,  0.1303,\n",
       "           0.0007, -0.0025,  0.0675,  0.1452, -0.0170, -0.0580,  0.1270, -0.0576,\n",
       "           0.1550, -0.0406, -0.1422,  0.0124, -0.0431, -0.0985,  0.1521,  0.1707,\n",
       "          -0.1246, -0.1297, -0.1059,  0.0723, -0.0796, -0.1659, -0.0306,  0.0064],\n",
       "         [ 0.1500,  0.1738, -0.0220, -0.1131, -0.1581, -0.1039,  0.0799, -0.0492,\n",
       "           0.1292, -0.0411,  0.1210,  0.1573, -0.1710, -0.1466,  0.1546, -0.1184,\n",
       "           0.1698,  0.0775,  0.0520, -0.0264, -0.0948, -0.0252,  0.1126,  0.0289,\n",
       "          -0.0292, -0.1462, -0.1227, -0.1653,  0.0392,  0.1370,  0.1688, -0.1202],\n",
       "         [-0.0211,  0.1233,  0.0551, -0.1558,  0.0245, -0.1270, -0.1474,  0.0851,\n",
       "          -0.0345,  0.1481,  0.0646, -0.0641,  0.1493,  0.0177, -0.0393, -0.1490,\n",
       "           0.0440, -0.1043, -0.1373,  0.1620, -0.1722,  0.0256, -0.0540,  0.0064,\n",
       "          -0.0933,  0.1348,  0.1067,  0.1339,  0.1054,  0.0651,  0.1019,  0.1419],\n",
       "         [-0.1040, -0.1761, -0.1557, -0.0178, -0.0631,  0.0184,  0.0924, -0.1176,\n",
       "           0.1333, -0.1439, -0.1729, -0.0612,  0.0328, -0.1482,  0.0069, -0.0542,\n",
       "          -0.0098,  0.0530, -0.0795, -0.0777,  0.1411, -0.0101, -0.1242,  0.0450,\n",
       "           0.1392, -0.0764,  0.0030, -0.1676, -0.1149, -0.1197, -0.0010, -0.0501],\n",
       "         [ 0.0108,  0.1606, -0.0029, -0.1617, -0.0037, -0.0156,  0.0250,  0.1638,\n",
       "          -0.0349,  0.0126,  0.1516,  0.0637,  0.0569, -0.0806, -0.0125,  0.0104,\n",
       "           0.1100, -0.0553,  0.1498, -0.0283,  0.1531,  0.1620,  0.1719,  0.0837,\n",
       "          -0.0003, -0.1679, -0.1243, -0.0704, -0.1434, -0.1238, -0.0950, -0.1267],\n",
       "         [ 0.0348,  0.0601, -0.0084,  0.0646, -0.0204,  0.1490,  0.0243,  0.1227,\n",
       "          -0.1058,  0.1763, -0.0776, -0.0244,  0.0794, -0.0020,  0.0466,  0.1485,\n",
       "           0.0755,  0.0563, -0.0949,  0.1018,  0.0076,  0.1396,  0.0497, -0.0126,\n",
       "          -0.1256,  0.0633,  0.0156, -0.0505,  0.0766,  0.1602, -0.0815, -0.0887],\n",
       "         [ 0.1072, -0.1737, -0.0279, -0.1167, -0.1476, -0.1695, -0.1567,  0.0805,\n",
       "           0.1157,  0.1729,  0.1547, -0.1491, -0.0114,  0.0578,  0.1340, -0.0769,\n",
       "           0.0851,  0.0075,  0.1471, -0.0701,  0.0319, -0.0213,  0.0020,  0.1476,\n",
       "          -0.0108, -0.0021,  0.1514, -0.1362,  0.0153,  0.0797,  0.1151, -0.0735],\n",
       "         [ 0.1649, -0.0955,  0.1300,  0.0030, -0.0309,  0.0523, -0.1294, -0.1510,\n",
       "           0.0663,  0.0553,  0.0053,  0.0987, -0.0156, -0.0461, -0.1397, -0.0753,\n",
       "          -0.1288,  0.0212, -0.1467,  0.0074, -0.0937, -0.0414,  0.0774,  0.0265,\n",
       "           0.1154, -0.0670, -0.1492, -0.0783,  0.0211,  0.1639,  0.1492, -0.0775],\n",
       "         [ 0.1673,  0.0512,  0.0488,  0.1562, -0.0955, -0.1253, -0.1443,  0.1200,\n",
       "          -0.0836,  0.1318,  0.0803, -0.1053,  0.1707, -0.0090, -0.0331,  0.0183,\n",
       "           0.0867,  0.1196, -0.0489,  0.1606, -0.0465,  0.0297, -0.0124, -0.0466,\n",
       "          -0.0623, -0.1720,  0.0102,  0.1099, -0.1392, -0.1575, -0.0547, -0.0880],\n",
       "         [-0.1730,  0.1350, -0.1688,  0.0630,  0.1278,  0.0440,  0.0465, -0.1537,\n",
       "           0.0093,  0.0945, -0.0846, -0.1100, -0.0909, -0.0411, -0.0710,  0.0739,\n",
       "          -0.1051, -0.0890, -0.1265, -0.1020,  0.0032, -0.0176, -0.0023,  0.1253,\n",
       "           0.0796,  0.0902,  0.1711,  0.0466, -0.1567, -0.0586,  0.1550, -0.0119],\n",
       "         [-0.1709,  0.1076, -0.0792,  0.1119,  0.0655, -0.0881,  0.1017,  0.0262,\n",
       "           0.0818, -0.0665, -0.1037,  0.0073, -0.0127, -0.0866,  0.0204,  0.1048,\n",
       "           0.0037,  0.1698, -0.1327,  0.0181,  0.0813,  0.0272,  0.1098,  0.0386,\n",
       "           0.1257, -0.0680,  0.1618,  0.0242,  0.0714, -0.0308, -0.1329,  0.0429],\n",
       "         [-0.0748, -0.1411, -0.0993,  0.0299, -0.0870, -0.0647, -0.0630,  0.1712,\n",
       "          -0.0516,  0.1350,  0.0223,  0.0937, -0.0647, -0.0781,  0.0352, -0.1398,\n",
       "           0.0937,  0.1039, -0.1267, -0.0359, -0.0083,  0.0969, -0.1731,  0.1157,\n",
       "          -0.0244,  0.0587, -0.0984, -0.1207,  0.0931, -0.1421, -0.0060, -0.1274]],\n",
       "        requires_grad=True),\n",
       " Parameter containing:\n",
       " tensor([-0.0559,  0.1723,  0.0841, -0.0835, -0.0479, -0.0876,  0.0843,  0.0406,\n",
       "         -0.1204, -0.0577, -0.1155, -0.0510,  0.0065,  0.1143, -0.0391, -0.0735,\n",
       "          0.0699,  0.0284,  0.0757, -0.0469, -0.1612,  0.0173,  0.0476],\n",
       "        requires_grad=True),\n",
       " Parameter containing:\n",
       " tensor([[ 1.5082e-01,  2.2135e-02,  8.4709e-02,  7.7600e-02,  1.6553e-01,\n",
       "           1.0125e-01, -1.7427e-01,  6.1975e-02,  2.0828e-01,  1.5792e-01,\n",
       "          -1.1618e-01, -1.2889e-01, -4.0106e-02,  4.2303e-02, -1.1126e-01,\n",
       "          -9.5368e-02,  3.6831e-02,  1.5744e-01,  1.2873e-01, -4.9153e-02,\n",
       "          -1.8547e-01,  5.1947e-02,  9.7004e-02],\n",
       "         [-1.5665e-01, -1.6949e-01,  1.2329e-01, -5.4156e-02, -5.8816e-02,\n",
       "           1.4320e-02, -9.4735e-03,  1.2614e-01, -7.5157e-02, -1.9348e-01,\n",
       "          -3.9362e-02,  1.1532e-01,  1.7963e-01, -3.2271e-02,  4.6587e-02,\n",
       "           1.3565e-01, -1.3553e-02,  2.0641e-01, -1.2105e-01,  4.7026e-02,\n",
       "          -5.4772e-03,  1.0964e-01,  2.9039e-02],\n",
       "         [ 1.4326e-01, -1.8643e-01, -1.3694e-01,  2.0710e-01, -1.6989e-01,\n",
       "          -1.0637e-02, -1.4766e-01, -1.8126e-01, -9.6425e-02,  1.2011e-01,\n",
       "          -4.5807e-02,  1.2176e-01,  8.9441e-02, -1.3634e-01, -7.0821e-02,\n",
       "           6.0845e-02, -9.8988e-02, -4.9395e-02, -9.9380e-02, -1.2752e-01,\n",
       "           4.8534e-02,  5.9654e-03, -1.0331e-01],\n",
       "         [-1.9971e-01, -1.0911e-01,  1.7487e-01, -2.0892e-02, -6.1132e-02,\n",
       "          -1.6972e-01,  1.6005e-01,  9.1834e-02,  2.1364e-03, -1.7247e-01,\n",
       "          -1.2038e-01,  1.2754e-01, -1.8088e-01,  8.8551e-02, -3.7625e-02,\n",
       "           1.3929e-01, -1.8841e-01,  4.6931e-03,  7.4428e-02,  5.0990e-03,\n",
       "           1.1057e-01, -1.2213e-01,  1.1298e-01],\n",
       "         [ 1.0463e-01, -4.4831e-02,  1.9228e-01,  8.9703e-02, -1.9964e-01,\n",
       "           1.2643e-01,  1.2994e-01, -1.8084e-01, -1.5555e-01,  9.4673e-02,\n",
       "           1.9701e-01,  9.6359e-03, -1.8467e-01,  1.4756e-01,  1.7161e-01,\n",
       "          -9.0475e-02,  1.5268e-01, -1.0701e-01,  1.7328e-01, -7.3486e-02,\n",
       "           1.1230e-01,  1.2164e-01, -2.0076e-01],\n",
       "         [ 7.8896e-02,  1.6294e-01,  6.8021e-02, -6.9694e-02,  6.2615e-02,\n",
       "          -5.6062e-02, -3.2706e-03,  1.4075e-02,  1.0203e-01,  7.8752e-02,\n",
       "          -3.4321e-02,  6.6227e-02,  1.2410e-01, -1.4304e-01,  2.6779e-02,\n",
       "           1.6925e-01,  1.9830e-01,  8.2993e-02, -4.6502e-02,  1.8890e-01,\n",
       "           1.0849e-01, -1.8427e-01, -6.6671e-02],\n",
       "         [-9.3340e-02, -8.6856e-02,  1.8012e-01,  6.1695e-02, -4.1421e-02,\n",
       "          -5.2983e-02,  6.9752e-02,  3.2925e-02, -4.5675e-02,  7.8500e-03,\n",
       "           1.3892e-01,  7.9371e-02, -3.5638e-02,  3.5466e-02,  1.2323e-01,\n",
       "          -3.9350e-03,  1.5641e-01,  1.8860e-01,  1.6877e-01,  4.4765e-02,\n",
       "           9.8817e-02, -1.5583e-01, -1.2655e-01],\n",
       "         [ 1.3104e-01, -1.1278e-01, -5.9061e-02, -3.2279e-02,  7.7571e-03,\n",
       "           1.1268e-01, -1.9006e-01,  4.6022e-03, -4.1146e-02,  1.7957e-01,\n",
       "          -6.3018e-02,  9.7420e-02, -5.3993e-02,  1.0286e-01, -1.4185e-01,\n",
       "           1.2350e-01,  7.1653e-02,  1.5264e-01,  1.9981e-02,  4.1739e-02,\n",
       "          -4.6759e-02,  2.0128e-01,  3.8198e-02],\n",
       "         [ 1.6027e-01,  4.8785e-02, -7.7813e-02,  3.7135e-02,  6.3882e-02,\n",
       "           1.3747e-01, -1.7825e-01, -1.9677e-01,  1.0268e-01,  6.9265e-02,\n",
       "           1.1589e-01, -4.2263e-02,  1.7437e-01,  1.4655e-01, -1.0289e-01,\n",
       "          -3.2260e-02, -1.1263e-01,  3.9758e-02,  8.9967e-02, -1.3307e-01,\n",
       "           1.9357e-01, -5.8105e-02,  2.8855e-02],\n",
       "         [-1.3761e-01, -3.1036e-02, -3.6202e-02,  1.2930e-01,  3.4710e-02,\n",
       "          -3.8644e-02, -8.7641e-02, -2.3443e-02,  5.7432e-02, -1.7937e-01,\n",
       "          -1.7013e-01, -1.3727e-01, -1.2701e-01, -1.9583e-01, -1.8205e-01,\n",
       "          -1.8256e-01, -5.0739e-02,  1.5448e-01, -1.3843e-01,  7.0399e-02,\n",
       "           9.9758e-02, -1.4542e-01,  2.0244e-01],\n",
       "         [ 1.6208e-02, -5.3700e-02, -4.1077e-03, -1.7808e-01, -1.7965e-01,\n",
       "          -6.1807e-02, -1.7055e-01,  8.6691e-02,  8.3960e-02, -1.7189e-01,\n",
       "          -6.1168e-02, -1.6607e-02,  9.7579e-02,  9.3758e-02,  1.6998e-01,\n",
       "          -2.0140e-01, -1.1149e-01,  1.0089e-01,  1.9862e-01,  1.0069e-01,\n",
       "           3.0837e-03,  1.7912e-01,  8.1510e-02],\n",
       "         [-1.5437e-01, -2.3054e-02, -7.4287e-02,  2.0390e-02, -1.0781e-01,\n",
       "          -1.2160e-01, -7.2918e-02, -9.0381e-02,  1.2268e-01,  1.1143e-01,\n",
       "           8.3585e-02,  8.6626e-02,  1.3210e-01, -1.8321e-01,  1.6452e-01,\n",
       "           2.0273e-01, -1.6839e-01,  6.7808e-02,  6.9132e-02, -4.9454e-02,\n",
       "          -3.3165e-02, -5.1561e-02,  1.6653e-01],\n",
       "         [ 1.9453e-01, -2.0391e-01,  1.7283e-01,  1.0595e-01, -1.2645e-01,\n",
       "          -1.9494e-01,  5.4917e-02, -4.7797e-02,  9.6883e-02, -1.6320e-01,\n",
       "          -1.5503e-01,  1.8881e-01, -2.0796e-01,  1.1208e-01, -1.7449e-01,\n",
       "          -5.3388e-02,  1.0769e-01,  1.9524e-02, -2.4083e-02,  8.9700e-02,\n",
       "          -1.1893e-01, -1.9003e-01,  1.4584e-01],\n",
       "         [-4.2622e-02, -1.1387e-01, -1.3567e-02,  6.7773e-02, -1.7095e-01,\n",
       "           1.1385e-01,  1.1637e-01, -9.2529e-02, -1.0814e-01,  5.3706e-02,\n",
       "           6.4037e-02, -9.8164e-02,  1.3823e-01,  1.8641e-01, -1.0684e-01,\n",
       "          -2.5862e-02, -5.7072e-02,  5.8588e-02, -1.9608e-01, -1.1398e-01,\n",
       "          -3.4343e-02,  1.7548e-01, -1.5105e-01],\n",
       "         [-1.7021e-01,  1.2360e-01, -1.7636e-01,  1.5050e-01, -9.1735e-02,\n",
       "          -4.8768e-02,  1.1879e-01, -9.2156e-02, -1.5032e-01, -4.9238e-02,\n",
       "           1.7004e-01, -1.3662e-01, -3.2761e-03, -1.3930e-01, -1.0222e-01,\n",
       "          -3.8862e-02, -7.3589e-02,  7.2128e-02,  5.5747e-02, -1.0793e-01,\n",
       "           1.9171e-01,  9.2843e-02,  1.9795e-01],\n",
       "         [-3.4142e-02,  1.3973e-01, -1.0266e-01, -1.8020e-01,  1.9690e-01,\n",
       "           1.2001e-02,  7.0959e-02,  1.6973e-01,  3.5451e-02,  1.4535e-01,\n",
       "           1.5717e-01, -3.6277e-02, -1.9892e-01, -1.4353e-01, -1.7141e-02,\n",
       "          -1.6428e-01, -9.2235e-02, -1.8831e-01, -1.7000e-01, -1.6402e-01,\n",
       "           1.7095e-01,  1.1951e-01,  1.8372e-01],\n",
       "         [ 1.5313e-02, -3.2622e-02,  5.8685e-02,  8.6663e-02, -1.9183e-01,\n",
       "           3.2271e-03, -2.0041e-01, -1.2798e-01, -1.8582e-01,  1.4005e-01,\n",
       "          -1.6130e-01,  7.6603e-02,  7.8836e-02, -1.5417e-01,  6.2886e-02,\n",
       "           5.2749e-02, -1.4663e-01,  9.6365e-02,  1.7562e-01, -8.4720e-02,\n",
       "          -9.4469e-02,  1.0855e-01, -2.8557e-02],\n",
       "         [ 1.6030e-01,  1.5787e-01, -6.2177e-02,  7.0726e-03, -1.8267e-01,\n",
       "           2.6400e-02,  5.7002e-03, -1.0251e-01,  9.0656e-02,  6.7315e-02,\n",
       "           1.2834e-01,  1.7725e-01, -3.3621e-02,  1.2391e-01,  2.5037e-02,\n",
       "           6.7996e-02,  8.6397e-02, -7.2724e-02,  1.6455e-01, -1.9602e-01,\n",
       "           6.6333e-02, -1.5989e-01, -2.2326e-02],\n",
       "         [-1.0409e-01, -1.4768e-02,  1.7940e-01, -1.9710e-01,  1.5175e-01,\n",
       "           4.5003e-02,  2.6132e-02,  1.9710e-01,  7.4040e-02, -1.9636e-01,\n",
       "           1.1580e-01, -8.9296e-02,  1.9916e-01,  4.7301e-02, -6.4787e-02,\n",
       "          -1.4997e-01,  1.6656e-01,  1.1115e-01, -1.9894e-01,  1.2519e-01,\n",
       "          -1.4276e-01, -1.5793e-01, -1.1646e-01],\n",
       "         [-4.4107e-02, -1.1199e-01, -1.7752e-01,  1.4879e-01, -1.5956e-01,\n",
       "          -1.7832e-01, -3.4984e-02,  1.2432e-01,  4.8143e-02,  1.3941e-01,\n",
       "           2.0460e-01,  1.4461e-01,  2.4577e-02, -4.2543e-02, -7.6438e-02,\n",
       "          -1.2465e-01, -1.4644e-01, -3.8837e-02,  8.9539e-02,  1.4542e-01,\n",
       "           1.7607e-01,  6.6493e-02, -7.8270e-02],\n",
       "         [ 7.3166e-02,  1.6246e-01,  1.8300e-01, -7.2270e-02,  1.5195e-01,\n",
       "          -1.9301e-01, -9.0775e-02,  6.7291e-02, -2.3916e-02, -1.2047e-02,\n",
       "           4.4994e-02, -7.4612e-02,  1.0579e-01, -1.7309e-01, -1.2365e-01,\n",
       "           1.7331e-01, -1.5981e-01,  1.1622e-01,  1.7341e-01, -2.1392e-02,\n",
       "           1.3469e-01,  1.3532e-01,  3.5897e-03],\n",
       "         [ 1.3105e-01, -1.9676e-02, -6.4721e-02,  2.0113e-01, -2.0028e-02,\n",
       "          -2.0435e-01,  8.5333e-03, -1.9607e-01, -1.3431e-01, -6.8690e-02,\n",
       "          -1.5599e-02,  5.5770e-02, -2.0395e-01, -7.4526e-02, -1.9619e-02,\n",
       "           7.0256e-03, -2.3574e-02,  9.3581e-02,  1.2923e-01, -3.5118e-02,\n",
       "           5.6834e-02, -1.8907e-01, -1.6932e-01],\n",
       "         [-1.3131e-01,  1.1632e-01, -1.5564e-01,  1.5480e-01, -2.1119e-02,\n",
       "           1.0291e-01,  1.3516e-01,  1.2172e-01,  1.4937e-01, -1.6443e-01,\n",
       "           1.6584e-01,  6.0755e-02, -6.2484e-02,  1.7143e-02,  2.0252e-01,\n",
       "           1.0650e-01,  7.4425e-02, -1.3815e-01,  1.6123e-01, -1.5216e-01,\n",
       "          -1.8188e-01, -1.4011e-01,  1.0082e-02],\n",
       "         [-1.1375e-01, -1.5587e-02,  1.1425e-01,  6.9821e-02,  2.0480e-01,\n",
       "          -9.2584e-02, -1.3070e-01, -7.7685e-02,  1.5537e-01,  2.0726e-01,\n",
       "          -2.0840e-01,  1.8202e-01, -8.5071e-02,  2.0533e-01,  1.2699e-01,\n",
       "          -6.4610e-02, -1.9377e-01,  6.1403e-02,  6.2331e-02,  1.8882e-01,\n",
       "          -3.8666e-03,  4.9170e-02,  1.6308e-01],\n",
       "         [ 1.0582e-01,  1.7242e-01,  1.2971e-01, -6.5049e-02,  2.0159e-01,\n",
       "          -9.4675e-02, -3.9254e-02,  1.5238e-02, -7.4141e-02,  1.2257e-01,\n",
       "          -1.7422e-01,  9.6036e-02,  7.6164e-02, -3.9898e-02,  5.1844e-02,\n",
       "          -1.6071e-01, -1.4606e-01,  1.0074e-01,  1.2518e-01, -8.1156e-03,\n",
       "           1.6394e-01, -1.7443e-01, -3.7597e-02],\n",
       "         [ 5.7577e-02, -1.6479e-01, -1.8237e-01, -4.5468e-02,  1.3070e-01,\n",
       "           1.5098e-01, -1.0892e-01, -6.3556e-02,  1.0274e-01,  6.1111e-03,\n",
       "          -4.0330e-02,  6.2815e-02,  1.2282e-01,  2.0556e-02,  1.4596e-01,\n",
       "          -1.5299e-01,  1.2852e-01,  1.8663e-01,  1.3730e-01,  1.6373e-01,\n",
       "          -1.2595e-01, -1.1148e-02,  2.7945e-02],\n",
       "         [-6.1102e-02, -7.6829e-02, -1.3238e-03, -1.6907e-01,  1.2373e-01,\n",
       "           5.0169e-02, -1.4788e-01,  4.3634e-02, -1.8318e-01,  9.6174e-02,\n",
       "          -1.9770e-01,  1.0764e-01, -1.4190e-01,  1.7225e-01, -1.4624e-01,\n",
       "          -1.5193e-01,  1.8363e-02,  1.4936e-01,  1.3093e-01, -1.0406e-01,\n",
       "          -6.7635e-02,  1.2629e-01, -7.8312e-02],\n",
       "         [ 7.7848e-02,  2.0075e-01,  5.2795e-03, -2.0356e-01,  3.8856e-02,\n",
       "           1.2157e-01,  4.4117e-03, -3.4296e-02,  9.7022e-02,  7.2647e-02,\n",
       "          -1.9840e-01,  8.1119e-02, -1.4408e-01,  1.9992e-01,  1.2082e-01,\n",
       "          -1.4353e-01,  1.1350e-02,  4.3724e-02, -6.6880e-02, -1.9334e-01,\n",
       "          -1.2788e-01,  4.1014e-02, -2.2639e-02],\n",
       "         [-1.9584e-01, -4.6952e-02,  1.8771e-01,  2.5333e-02,  1.7516e-01,\n",
       "           4.3789e-02, -1.5798e-01, -1.2107e-01,  7.1370e-02,  8.3803e-02,\n",
       "          -1.0222e-01,  1.2722e-02, -1.3377e-01,  1.1126e-01,  7.0036e-02,\n",
       "           1.2817e-01,  1.9892e-01, -1.8604e-01,  5.6481e-02,  5.4845e-02,\n",
       "          -7.8752e-02, -1.4943e-01,  1.0351e-01],\n",
       "         [-1.9294e-01,  4.8696e-02,  7.7191e-02,  1.1042e-01,  1.0791e-01,\n",
       "           1.7182e-01, -1.8919e-01, -1.3113e-01, -3.2853e-02,  1.2631e-01,\n",
       "           7.7965e-02, -2.3672e-02,  1.7382e-01,  2.8779e-02, -9.8676e-02,\n",
       "          -7.2560e-02, -9.9004e-02, -8.5131e-02, -1.1756e-01, -1.9435e-01,\n",
       "          -1.4074e-01,  6.9547e-02,  5.2493e-02],\n",
       "         [-1.6677e-01, -1.3077e-01,  6.5340e-02,  2.3024e-02, -3.9116e-02,\n",
       "           1.5837e-01, -1.9372e-01,  8.8315e-02,  1.0174e-01,  1.3442e-01,\n",
       "           3.5388e-02, -1.4149e-01,  3.9252e-02,  1.4280e-01, -1.8101e-01,\n",
       "          -1.6540e-01,  1.8399e-01,  8.4341e-03, -1.4403e-01,  1.1672e-01,\n",
       "           4.0375e-02, -1.2046e-01,  1.1282e-01],\n",
       "         [ 6.1402e-02,  2.0164e-01,  2.8196e-02,  1.6761e-01,  2.2271e-02,\n",
       "          -5.0070e-02, -4.9046e-02, -8.6257e-02, -7.6190e-02,  1.2136e-02,\n",
       "          -2.0355e-01, -1.1199e-01, -6.1708e-03, -1.3816e-01, -8.6793e-02,\n",
       "           8.6802e-03, -1.1277e-01,  8.3770e-02,  1.3565e-03,  1.7806e-02,\n",
       "           1.8562e-01, -5.3243e-05, -2.8833e-02]], requires_grad=True),\n",
       " Parameter containing:\n",
       " tensor([-0.0485,  0.0338,  0.0723, -0.0824, -0.0904, -0.1829,  0.1478,  0.0506,\n",
       "         -0.0155, -0.0323, -0.0121,  0.0546,  0.0091, -0.0555, -0.0134,  0.1479,\n",
       "          0.2018, -0.0640,  0.1216,  0.0101, -0.1619, -0.1683, -0.1976,  0.0582,\n",
       "          0.1578, -0.1756, -0.1089, -0.0846,  0.0647, -0.0739,  0.0341,  0.1474],\n",
       "        requires_grad=True),\n",
       " Parameter containing:\n",
       " tensor([[-0.0104,  0.1001, -0.1102,  ...,  0.0675, -0.1155,  0.1475],\n",
       "         [ 0.0539, -0.0043,  0.1446,  ..., -0.1341,  0.0366,  0.1473],\n",
       "         [-0.0205, -0.1768,  0.1733,  ..., -0.0340, -0.1186, -0.0196],\n",
       "         ...,\n",
       "         [-0.0197, -0.0031, -0.0003,  ...,  0.1377, -0.1013, -0.0739],\n",
       "         [ 0.1767, -0.0979,  0.0527,  ..., -0.0912, -0.0240,  0.1387],\n",
       "         [-0.0693, -0.1446,  0.1114,  ...,  0.0022, -0.0622, -0.0987]],\n",
       "        requires_grad=True),\n",
       " Parameter containing:\n",
       " tensor([ 0.0153,  0.0798,  0.1114, -0.0729, -0.0117,  0.1003,  0.1178, -0.0084,\n",
       "         -0.0246,  0.0948, -0.1325,  0.1214,  0.0840, -0.1386,  0.1211, -0.1371,\n",
       "         -0.0978, -0.1271,  0.1433, -0.1276, -0.0153,  0.0601, -0.1480, -0.1550,\n",
       "          0.0432, -0.0413,  0.0798,  0.0766, -0.0492, -0.1097,  0.0889, -0.0835,\n",
       "         -0.0339, -0.0426, -0.0846,  0.1658, -0.0791,  0.1285, -0.0807,  0.0047,\n",
       "          0.1311,  0.1297,  0.1429, -0.0201, -0.1628, -0.0017],\n",
       "        requires_grad=True)]"
      ]
     },
     "execution_count": 19,
     "metadata": {},
     "output_type": "execute_result"
    }
   ],
   "source": [
    "list(nca.parameters())"
   ]
  },
  {
   "cell_type": "code",
   "execution_count": 20,
   "id": "425f30d2",
   "metadata": {},
   "outputs": [
    {
     "name": "stdout",
     "output_type": "stream",
     "text": [
      "Data(x=[2, 23], edge_index=[2, 1])\n"
     ]
    }
   ],
   "source": [
    "print(nca.graph.to_data())"
   ]
  },
  {
   "cell_type": "code",
   "execution_count": 21,
   "id": "abbb214e-601e-491b-89b2-65bb2b916f1f",
   "metadata": {},
   "outputs": [],
   "source": [
    "# actions = torch.ones((32, 1)).long()\n",
    "# optimizer.zero_grad()\n",
    "# graph = nca.grow(graph = nca.graph, parent_index=2)\n",
    "# generated_network = graph.generate_network()\n",
    "# outputs, nodes = generated_network.batch_forward(torch.randn(32, 2))\n",
    "# loss = loss_fn(outputs, actions, torch.ones((32,1))*2)\n",
    "# loss.backward()\n",
    "# optimizer.step()"
   ]
  },
  {
   "cell_type": "code",
   "execution_count": 22,
   "id": "f772c67a-42fb-44f4-8859-2086002ebeea",
   "metadata": {
    "scrolled": true,
    "tags": []
   },
   "outputs": [
    {
     "data": {
      "text/plain": [
       "[Parameter containing:\n",
       " tensor([[-0.0494, -0.1660,  0.0979,  ..., -0.2409,  0.0017,  0.1821],\n",
       "         [-0.1551,  0.1274, -0.2111,  ...,  0.1989,  0.0465, -0.0484],\n",
       "         [-0.1391, -0.1755,  0.0299,  ..., -0.2399, -0.0432,  0.1792],\n",
       "         ...,\n",
       "         [-0.0114,  0.2521, -0.0915,  ...,  0.1343,  0.1675, -0.0096],\n",
       "         [-0.0369,  0.2053, -0.0779,  ..., -0.1024, -0.1541,  0.2027],\n",
       "         [-0.0049,  0.0938, -0.0152,  ...,  0.1543, -0.0760, -0.1034]],\n",
       "        requires_grad=True),\n",
       " Parameter containing:\n",
       " tensor([[ 0.0195,  0.0088,  0.1014,  ...,  0.0041,  0.0292,  0.0778],\n",
       "         [ 0.0135, -0.0946, -0.0834,  ...,  0.1000,  0.0685, -0.0904],\n",
       "         [ 0.0250,  0.0904, -0.0190,  ...,  0.0050, -0.0949, -0.0094],\n",
       "         ...,\n",
       "         [-0.1140,  0.0737, -0.0592,  ...,  0.1049, -0.0541,  0.1061],\n",
       "         [ 0.0417,  0.0531, -0.1035,  ...,  0.1113,  0.0610,  0.0360],\n",
       "         [ 0.0460, -0.0420,  0.0267,  ..., -0.0540,  0.1070, -0.0017]],\n",
       "        requires_grad=True),\n",
       " Parameter containing:\n",
       " tensor([ 0.0126, -0.0225,  0.1024, -0.1075,  0.0188, -0.0778,  0.0081, -0.0851,\n",
       "          0.1192,  0.1034,  0.0007,  0.1004, -0.0464,  0.0092,  0.0253,  0.0868,\n",
       "         -0.1046, -0.0536, -0.0399,  0.1023,  0.0317, -0.1122, -0.0783,  0.0508,\n",
       "          0.0294,  0.0028,  0.0990, -0.0214, -0.1067,  0.0581,  0.1056, -0.0034],\n",
       "        requires_grad=True),\n",
       " Parameter containing:\n",
       " tensor([[-0.0221,  0.0954, -0.0601,  0.0709, -0.1401, -0.0146, -0.0934, -0.1291,\n",
       "          -0.0127, -0.0101,  0.0457, -0.1188, -0.0578,  0.0559,  0.0222,  0.0536,\n",
       "           0.1538,  0.0311,  0.1416,  0.1010,  0.1587, -0.1405, -0.1051, -0.1218,\n",
       "          -0.0802, -0.0032,  0.0195, -0.1002,  0.1008, -0.1267, -0.0679,  0.0126],\n",
       "         [ 0.0221,  0.1736, -0.1026, -0.1578,  0.0074, -0.1068,  0.1015, -0.0848,\n",
       "          -0.1605, -0.1624, -0.0159,  0.0890,  0.0384,  0.1713,  0.0592, -0.0579,\n",
       "           0.0436,  0.1561, -0.1063,  0.0239,  0.0237, -0.0051,  0.0548,  0.1245,\n",
       "          -0.0660, -0.1733,  0.0534,  0.0137, -0.0258,  0.0095,  0.1728, -0.0230],\n",
       "         [-0.0777,  0.0351, -0.0536, -0.1754,  0.0987, -0.0467, -0.1094, -0.0621,\n",
       "          -0.0979,  0.0632,  0.1183, -0.0024,  0.1569,  0.0592,  0.0965,  0.1383,\n",
       "          -0.0563,  0.0084,  0.0403,  0.0824, -0.1639,  0.1590, -0.0138, -0.1731,\n",
       "          -0.1409, -0.0275, -0.1051,  0.0210, -0.0395, -0.0098,  0.1249,  0.1594],\n",
       "         [ 0.1285,  0.0101, -0.1681,  0.0635, -0.1255,  0.1742, -0.0231, -0.1450,\n",
       "           0.0583, -0.0508,  0.0194,  0.1067,  0.1633,  0.0726, -0.1261, -0.0269,\n",
       "          -0.1231, -0.1721, -0.0185, -0.1338, -0.1169, -0.1219, -0.0643, -0.1233,\n",
       "          -0.0891,  0.1631, -0.1690, -0.0915,  0.0369, -0.0414, -0.1761, -0.1266],\n",
       "         [ 0.0325,  0.0215, -0.1574, -0.0357,  0.0870, -0.1581, -0.0488,  0.1676,\n",
       "          -0.1629,  0.1319, -0.1300, -0.0965, -0.0087,  0.0354,  0.1188, -0.0135,\n",
       "           0.0521,  0.0875,  0.1600, -0.0667, -0.0774,  0.0822, -0.0728,  0.1228,\n",
       "           0.0289,  0.0051,  0.1082,  0.1244,  0.0856, -0.0480,  0.0906, -0.0017],\n",
       "         [ 0.1763,  0.1094, -0.0760,  0.0086,  0.0045,  0.1011,  0.0298,  0.1496,\n",
       "          -0.1348,  0.0743,  0.1185, -0.0282,  0.1314,  0.0115, -0.0806,  0.0552,\n",
       "          -0.0081,  0.0704, -0.1389, -0.0573,  0.0127, -0.1642, -0.1536, -0.1100,\n",
       "          -0.1197,  0.0606,  0.0597,  0.1704,  0.1587,  0.1035, -0.1466, -0.1520],\n",
       "         [ 0.0940,  0.0528, -0.0951,  0.1657,  0.1644, -0.0918,  0.0950,  0.0809,\n",
       "          -0.0797,  0.1277, -0.0857, -0.0306, -0.0336,  0.0322,  0.0916,  0.1129,\n",
       "          -0.1068, -0.1547,  0.1570,  0.1048, -0.0708,  0.1615, -0.0564, -0.0925,\n",
       "           0.0356,  0.0948, -0.0935, -0.1160, -0.0881,  0.1347, -0.0186, -0.0143],\n",
       "         [ 0.1009, -0.0535, -0.0817, -0.1713, -0.0506,  0.0042,  0.1430,  0.0004,\n",
       "          -0.0793,  0.1140, -0.0725,  0.1543,  0.1380,  0.1603,  0.0922,  0.0413,\n",
       "           0.1378,  0.0096, -0.0965, -0.1406,  0.1007, -0.1725,  0.1249, -0.0514,\n",
       "           0.0349, -0.0289,  0.0754, -0.0787,  0.1045,  0.0529, -0.1684,  0.1258],\n",
       "         [ 0.0071, -0.0525,  0.0026,  0.0080, -0.0791,  0.0672,  0.0649, -0.0389,\n",
       "          -0.0318, -0.1725, -0.1474,  0.0056, -0.0719, -0.0145, -0.1330,  0.0488,\n",
       "           0.1531,  0.0078,  0.1427, -0.0950,  0.0753,  0.0574, -0.1218,  0.0842,\n",
       "          -0.0457,  0.0954, -0.1119,  0.1206, -0.0616,  0.0200,  0.0109, -0.1062],\n",
       "         [-0.1085,  0.0457,  0.0137,  0.1277,  0.0448,  0.0152,  0.0014, -0.1234,\n",
       "           0.0495, -0.0769,  0.0589,  0.1745, -0.0750, -0.0078,  0.1436,  0.1476,\n",
       "          -0.0705,  0.1092,  0.0166, -0.0249, -0.0442, -0.0881, -0.1222, -0.0315,\n",
       "           0.1601,  0.0979,  0.0292,  0.1633,  0.0583, -0.0508, -0.1561, -0.0710],\n",
       "         [-0.1013, -0.0957,  0.1298, -0.0913,  0.1570,  0.0976, -0.1371,  0.0704,\n",
       "           0.1420,  0.0799, -0.1000,  0.0897,  0.1455, -0.0103, -0.1515,  0.0589,\n",
       "          -0.1270,  0.0197,  0.0155, -0.0830, -0.0337, -0.0490,  0.0369,  0.1319,\n",
       "           0.0993, -0.0168,  0.1227,  0.1398,  0.0951, -0.1295, -0.1700,  0.0434],\n",
       "         [ 0.0561,  0.0985,  0.0298,  0.1258,  0.0612,  0.0418, -0.1555,  0.1303,\n",
       "           0.0007, -0.0025,  0.0675,  0.1452, -0.0170, -0.0580,  0.1270, -0.0576,\n",
       "           0.1550, -0.0406, -0.1422,  0.0124, -0.0431, -0.0985,  0.1521,  0.1707,\n",
       "          -0.1246, -0.1297, -0.1059,  0.0723, -0.0796, -0.1659, -0.0306,  0.0064],\n",
       "         [ 0.1500,  0.1738, -0.0220, -0.1131, -0.1581, -0.1039,  0.0799, -0.0492,\n",
       "           0.1292, -0.0411,  0.1210,  0.1573, -0.1710, -0.1466,  0.1546, -0.1184,\n",
       "           0.1698,  0.0775,  0.0520, -0.0264, -0.0948, -0.0252,  0.1126,  0.0289,\n",
       "          -0.0292, -0.1462, -0.1227, -0.1653,  0.0392,  0.1370,  0.1688, -0.1202],\n",
       "         [-0.0211,  0.1233,  0.0551, -0.1558,  0.0245, -0.1270, -0.1474,  0.0851,\n",
       "          -0.0345,  0.1481,  0.0646, -0.0641,  0.1493,  0.0177, -0.0393, -0.1490,\n",
       "           0.0440, -0.1043, -0.1373,  0.1620, -0.1722,  0.0256, -0.0540,  0.0064,\n",
       "          -0.0933,  0.1348,  0.1067,  0.1339,  0.1054,  0.0651,  0.1019,  0.1419],\n",
       "         [-0.1040, -0.1761, -0.1557, -0.0178, -0.0631,  0.0184,  0.0924, -0.1176,\n",
       "           0.1333, -0.1439, -0.1729, -0.0612,  0.0328, -0.1482,  0.0069, -0.0542,\n",
       "          -0.0098,  0.0530, -0.0795, -0.0777,  0.1411, -0.0101, -0.1242,  0.0450,\n",
       "           0.1392, -0.0764,  0.0030, -0.1676, -0.1149, -0.1197, -0.0010, -0.0501],\n",
       "         [ 0.0108,  0.1606, -0.0029, -0.1617, -0.0037, -0.0156,  0.0250,  0.1638,\n",
       "          -0.0349,  0.0126,  0.1516,  0.0637,  0.0569, -0.0806, -0.0125,  0.0104,\n",
       "           0.1100, -0.0553,  0.1498, -0.0283,  0.1531,  0.1620,  0.1719,  0.0837,\n",
       "          -0.0003, -0.1679, -0.1243, -0.0704, -0.1434, -0.1238, -0.0950, -0.1267],\n",
       "         [ 0.0348,  0.0601, -0.0084,  0.0646, -0.0204,  0.1490,  0.0243,  0.1227,\n",
       "          -0.1058,  0.1763, -0.0776, -0.0244,  0.0794, -0.0020,  0.0466,  0.1485,\n",
       "           0.0755,  0.0563, -0.0949,  0.1018,  0.0076,  0.1396,  0.0497, -0.0126,\n",
       "          -0.1256,  0.0633,  0.0156, -0.0505,  0.0766,  0.1602, -0.0815, -0.0887],\n",
       "         [ 0.1072, -0.1737, -0.0279, -0.1167, -0.1476, -0.1695, -0.1567,  0.0805,\n",
       "           0.1157,  0.1729,  0.1547, -0.1491, -0.0114,  0.0578,  0.1340, -0.0769,\n",
       "           0.0851,  0.0075,  0.1471, -0.0701,  0.0319, -0.0213,  0.0020,  0.1476,\n",
       "          -0.0108, -0.0021,  0.1514, -0.1362,  0.0153,  0.0797,  0.1151, -0.0735],\n",
       "         [ 0.1649, -0.0955,  0.1300,  0.0030, -0.0309,  0.0523, -0.1294, -0.1510,\n",
       "           0.0663,  0.0553,  0.0053,  0.0987, -0.0156, -0.0461, -0.1397, -0.0753,\n",
       "          -0.1288,  0.0212, -0.1467,  0.0074, -0.0937, -0.0414,  0.0774,  0.0265,\n",
       "           0.1154, -0.0670, -0.1492, -0.0783,  0.0211,  0.1639,  0.1492, -0.0775],\n",
       "         [ 0.1673,  0.0512,  0.0488,  0.1562, -0.0955, -0.1253, -0.1443,  0.1200,\n",
       "          -0.0836,  0.1318,  0.0803, -0.1053,  0.1707, -0.0090, -0.0331,  0.0183,\n",
       "           0.0867,  0.1196, -0.0489,  0.1606, -0.0465,  0.0297, -0.0124, -0.0466,\n",
       "          -0.0623, -0.1720,  0.0102,  0.1099, -0.1392, -0.1575, -0.0547, -0.0880],\n",
       "         [-0.1730,  0.1350, -0.1688,  0.0630,  0.1278,  0.0440,  0.0465, -0.1537,\n",
       "           0.0093,  0.0945, -0.0846, -0.1100, -0.0909, -0.0411, -0.0710,  0.0739,\n",
       "          -0.1051, -0.0890, -0.1265, -0.1020,  0.0032, -0.0176, -0.0023,  0.1253,\n",
       "           0.0796,  0.0902,  0.1711,  0.0466, -0.1567, -0.0586,  0.1550, -0.0119],\n",
       "         [-0.1709,  0.1076, -0.0792,  0.1119,  0.0655, -0.0881,  0.1017,  0.0262,\n",
       "           0.0818, -0.0665, -0.1037,  0.0073, -0.0127, -0.0866,  0.0204,  0.1048,\n",
       "           0.0037,  0.1698, -0.1327,  0.0181,  0.0813,  0.0272,  0.1098,  0.0386,\n",
       "           0.1257, -0.0680,  0.1618,  0.0242,  0.0714, -0.0308, -0.1329,  0.0429],\n",
       "         [-0.0748, -0.1411, -0.0993,  0.0299, -0.0870, -0.0647, -0.0630,  0.1712,\n",
       "          -0.0516,  0.1350,  0.0223,  0.0937, -0.0647, -0.0781,  0.0352, -0.1398,\n",
       "           0.0937,  0.1039, -0.1267, -0.0359, -0.0083,  0.0969, -0.1731,  0.1157,\n",
       "          -0.0244,  0.0587, -0.0984, -0.1207,  0.0931, -0.1421, -0.0060, -0.1274]],\n",
       "        requires_grad=True),\n",
       " Parameter containing:\n",
       " tensor([-0.0559,  0.1723,  0.0841, -0.0835, -0.0479, -0.0876,  0.0843,  0.0406,\n",
       "         -0.1204, -0.0577, -0.1155, -0.0510,  0.0065,  0.1143, -0.0391, -0.0735,\n",
       "          0.0699,  0.0284,  0.0757, -0.0469, -0.1612,  0.0173,  0.0476],\n",
       "        requires_grad=True),\n",
       " Parameter containing:\n",
       " tensor([[ 1.5082e-01,  2.2135e-02,  8.4709e-02,  7.7600e-02,  1.6553e-01,\n",
       "           1.0125e-01, -1.7427e-01,  6.1975e-02,  2.0828e-01,  1.5792e-01,\n",
       "          -1.1618e-01, -1.2889e-01, -4.0106e-02,  4.2303e-02, -1.1126e-01,\n",
       "          -9.5368e-02,  3.6831e-02,  1.5744e-01,  1.2873e-01, -4.9153e-02,\n",
       "          -1.8547e-01,  5.1947e-02,  9.7004e-02],\n",
       "         [-1.5665e-01, -1.6949e-01,  1.2329e-01, -5.4156e-02, -5.8816e-02,\n",
       "           1.4320e-02, -9.4735e-03,  1.2614e-01, -7.5157e-02, -1.9348e-01,\n",
       "          -3.9362e-02,  1.1532e-01,  1.7963e-01, -3.2271e-02,  4.6587e-02,\n",
       "           1.3565e-01, -1.3553e-02,  2.0641e-01, -1.2105e-01,  4.7026e-02,\n",
       "          -5.4772e-03,  1.0964e-01,  2.9039e-02],\n",
       "         [ 1.4326e-01, -1.8643e-01, -1.3694e-01,  2.0710e-01, -1.6989e-01,\n",
       "          -1.0637e-02, -1.4766e-01, -1.8126e-01, -9.6425e-02,  1.2011e-01,\n",
       "          -4.5807e-02,  1.2176e-01,  8.9441e-02, -1.3634e-01, -7.0821e-02,\n",
       "           6.0845e-02, -9.8988e-02, -4.9395e-02, -9.9380e-02, -1.2752e-01,\n",
       "           4.8534e-02,  5.9654e-03, -1.0331e-01],\n",
       "         [-1.9971e-01, -1.0911e-01,  1.7487e-01, -2.0892e-02, -6.1132e-02,\n",
       "          -1.6972e-01,  1.6005e-01,  9.1834e-02,  2.1364e-03, -1.7247e-01,\n",
       "          -1.2038e-01,  1.2754e-01, -1.8088e-01,  8.8551e-02, -3.7625e-02,\n",
       "           1.3929e-01, -1.8841e-01,  4.6931e-03,  7.4428e-02,  5.0990e-03,\n",
       "           1.1057e-01, -1.2213e-01,  1.1298e-01],\n",
       "         [ 1.0463e-01, -4.4831e-02,  1.9228e-01,  8.9703e-02, -1.9964e-01,\n",
       "           1.2643e-01,  1.2994e-01, -1.8084e-01, -1.5555e-01,  9.4673e-02,\n",
       "           1.9701e-01,  9.6359e-03, -1.8467e-01,  1.4756e-01,  1.7161e-01,\n",
       "          -9.0475e-02,  1.5268e-01, -1.0701e-01,  1.7328e-01, -7.3486e-02,\n",
       "           1.1230e-01,  1.2164e-01, -2.0076e-01],\n",
       "         [ 7.8896e-02,  1.6294e-01,  6.8021e-02, -6.9694e-02,  6.2615e-02,\n",
       "          -5.6062e-02, -3.2706e-03,  1.4075e-02,  1.0203e-01,  7.8752e-02,\n",
       "          -3.4321e-02,  6.6227e-02,  1.2410e-01, -1.4304e-01,  2.6779e-02,\n",
       "           1.6925e-01,  1.9830e-01,  8.2993e-02, -4.6502e-02,  1.8890e-01,\n",
       "           1.0849e-01, -1.8427e-01, -6.6671e-02],\n",
       "         [-9.3340e-02, -8.6856e-02,  1.8012e-01,  6.1695e-02, -4.1421e-02,\n",
       "          -5.2983e-02,  6.9752e-02,  3.2925e-02, -4.5675e-02,  7.8500e-03,\n",
       "           1.3892e-01,  7.9371e-02, -3.5638e-02,  3.5466e-02,  1.2323e-01,\n",
       "          -3.9350e-03,  1.5641e-01,  1.8860e-01,  1.6877e-01,  4.4765e-02,\n",
       "           9.8817e-02, -1.5583e-01, -1.2655e-01],\n",
       "         [ 1.3104e-01, -1.1278e-01, -5.9061e-02, -3.2279e-02,  7.7571e-03,\n",
       "           1.1268e-01, -1.9006e-01,  4.6022e-03, -4.1146e-02,  1.7957e-01,\n",
       "          -6.3018e-02,  9.7420e-02, -5.3993e-02,  1.0286e-01, -1.4185e-01,\n",
       "           1.2350e-01,  7.1653e-02,  1.5264e-01,  1.9981e-02,  4.1739e-02,\n",
       "          -4.6759e-02,  2.0128e-01,  3.8198e-02],\n",
       "         [ 1.6027e-01,  4.8785e-02, -7.7813e-02,  3.7135e-02,  6.3882e-02,\n",
       "           1.3747e-01, -1.7825e-01, -1.9677e-01,  1.0268e-01,  6.9265e-02,\n",
       "           1.1589e-01, -4.2263e-02,  1.7437e-01,  1.4655e-01, -1.0289e-01,\n",
       "          -3.2260e-02, -1.1263e-01,  3.9758e-02,  8.9967e-02, -1.3307e-01,\n",
       "           1.9357e-01, -5.8105e-02,  2.8855e-02],\n",
       "         [-1.3761e-01, -3.1036e-02, -3.6202e-02,  1.2930e-01,  3.4710e-02,\n",
       "          -3.8644e-02, -8.7641e-02, -2.3443e-02,  5.7432e-02, -1.7937e-01,\n",
       "          -1.7013e-01, -1.3727e-01, -1.2701e-01, -1.9583e-01, -1.8205e-01,\n",
       "          -1.8256e-01, -5.0739e-02,  1.5448e-01, -1.3843e-01,  7.0399e-02,\n",
       "           9.9758e-02, -1.4542e-01,  2.0244e-01],\n",
       "         [ 1.6208e-02, -5.3700e-02, -4.1077e-03, -1.7808e-01, -1.7965e-01,\n",
       "          -6.1807e-02, -1.7055e-01,  8.6691e-02,  8.3960e-02, -1.7189e-01,\n",
       "          -6.1168e-02, -1.6607e-02,  9.7579e-02,  9.3758e-02,  1.6998e-01,\n",
       "          -2.0140e-01, -1.1149e-01,  1.0089e-01,  1.9862e-01,  1.0069e-01,\n",
       "           3.0837e-03,  1.7912e-01,  8.1510e-02],\n",
       "         [-1.5437e-01, -2.3054e-02, -7.4287e-02,  2.0390e-02, -1.0781e-01,\n",
       "          -1.2160e-01, -7.2918e-02, -9.0381e-02,  1.2268e-01,  1.1143e-01,\n",
       "           8.3585e-02,  8.6626e-02,  1.3210e-01, -1.8321e-01,  1.6452e-01,\n",
       "           2.0273e-01, -1.6839e-01,  6.7808e-02,  6.9132e-02, -4.9454e-02,\n",
       "          -3.3165e-02, -5.1561e-02,  1.6653e-01],\n",
       "         [ 1.9453e-01, -2.0391e-01,  1.7283e-01,  1.0595e-01, -1.2645e-01,\n",
       "          -1.9494e-01,  5.4917e-02, -4.7797e-02,  9.6883e-02, -1.6320e-01,\n",
       "          -1.5503e-01,  1.8881e-01, -2.0796e-01,  1.1208e-01, -1.7449e-01,\n",
       "          -5.3388e-02,  1.0769e-01,  1.9524e-02, -2.4083e-02,  8.9700e-02,\n",
       "          -1.1893e-01, -1.9003e-01,  1.4584e-01],\n",
       "         [-4.2622e-02, -1.1387e-01, -1.3567e-02,  6.7773e-02, -1.7095e-01,\n",
       "           1.1385e-01,  1.1637e-01, -9.2529e-02, -1.0814e-01,  5.3706e-02,\n",
       "           6.4037e-02, -9.8164e-02,  1.3823e-01,  1.8641e-01, -1.0684e-01,\n",
       "          -2.5862e-02, -5.7072e-02,  5.8588e-02, -1.9608e-01, -1.1398e-01,\n",
       "          -3.4343e-02,  1.7548e-01, -1.5105e-01],\n",
       "         [-1.7021e-01,  1.2360e-01, -1.7636e-01,  1.5050e-01, -9.1735e-02,\n",
       "          -4.8768e-02,  1.1879e-01, -9.2156e-02, -1.5032e-01, -4.9238e-02,\n",
       "           1.7004e-01, -1.3662e-01, -3.2761e-03, -1.3930e-01, -1.0222e-01,\n",
       "          -3.8862e-02, -7.3589e-02,  7.2128e-02,  5.5747e-02, -1.0793e-01,\n",
       "           1.9171e-01,  9.2843e-02,  1.9795e-01],\n",
       "         [-3.4142e-02,  1.3973e-01, -1.0266e-01, -1.8020e-01,  1.9690e-01,\n",
       "           1.2001e-02,  7.0959e-02,  1.6973e-01,  3.5451e-02,  1.4535e-01,\n",
       "           1.5717e-01, -3.6277e-02, -1.9892e-01, -1.4353e-01, -1.7141e-02,\n",
       "          -1.6428e-01, -9.2235e-02, -1.8831e-01, -1.7000e-01, -1.6402e-01,\n",
       "           1.7095e-01,  1.1951e-01,  1.8372e-01],\n",
       "         [ 1.5313e-02, -3.2622e-02,  5.8685e-02,  8.6663e-02, -1.9183e-01,\n",
       "           3.2271e-03, -2.0041e-01, -1.2798e-01, -1.8582e-01,  1.4005e-01,\n",
       "          -1.6130e-01,  7.6603e-02,  7.8836e-02, -1.5417e-01,  6.2886e-02,\n",
       "           5.2749e-02, -1.4663e-01,  9.6365e-02,  1.7562e-01, -8.4720e-02,\n",
       "          -9.4469e-02,  1.0855e-01, -2.8557e-02],\n",
       "         [ 1.6030e-01,  1.5787e-01, -6.2177e-02,  7.0726e-03, -1.8267e-01,\n",
       "           2.6400e-02,  5.7002e-03, -1.0251e-01,  9.0656e-02,  6.7315e-02,\n",
       "           1.2834e-01,  1.7725e-01, -3.3621e-02,  1.2391e-01,  2.5037e-02,\n",
       "           6.7996e-02,  8.6397e-02, -7.2724e-02,  1.6455e-01, -1.9602e-01,\n",
       "           6.6333e-02, -1.5989e-01, -2.2326e-02],\n",
       "         [-1.0409e-01, -1.4768e-02,  1.7940e-01, -1.9710e-01,  1.5175e-01,\n",
       "           4.5003e-02,  2.6132e-02,  1.9710e-01,  7.4040e-02, -1.9636e-01,\n",
       "           1.1580e-01, -8.9296e-02,  1.9916e-01,  4.7301e-02, -6.4787e-02,\n",
       "          -1.4997e-01,  1.6656e-01,  1.1115e-01, -1.9894e-01,  1.2519e-01,\n",
       "          -1.4276e-01, -1.5793e-01, -1.1646e-01],\n",
       "         [-4.4107e-02, -1.1199e-01, -1.7752e-01,  1.4879e-01, -1.5956e-01,\n",
       "          -1.7832e-01, -3.4984e-02,  1.2432e-01,  4.8143e-02,  1.3941e-01,\n",
       "           2.0460e-01,  1.4461e-01,  2.4577e-02, -4.2543e-02, -7.6438e-02,\n",
       "          -1.2465e-01, -1.4644e-01, -3.8837e-02,  8.9539e-02,  1.4542e-01,\n",
       "           1.7607e-01,  6.6493e-02, -7.8270e-02],\n",
       "         [ 7.3166e-02,  1.6246e-01,  1.8300e-01, -7.2270e-02,  1.5195e-01,\n",
       "          -1.9301e-01, -9.0775e-02,  6.7291e-02, -2.3916e-02, -1.2047e-02,\n",
       "           4.4994e-02, -7.4612e-02,  1.0579e-01, -1.7309e-01, -1.2365e-01,\n",
       "           1.7331e-01, -1.5981e-01,  1.1622e-01,  1.7341e-01, -2.1392e-02,\n",
       "           1.3469e-01,  1.3532e-01,  3.5897e-03],\n",
       "         [ 1.3105e-01, -1.9676e-02, -6.4721e-02,  2.0113e-01, -2.0028e-02,\n",
       "          -2.0435e-01,  8.5333e-03, -1.9607e-01, -1.3431e-01, -6.8690e-02,\n",
       "          -1.5599e-02,  5.5770e-02, -2.0395e-01, -7.4526e-02, -1.9619e-02,\n",
       "           7.0256e-03, -2.3574e-02,  9.3581e-02,  1.2923e-01, -3.5118e-02,\n",
       "           5.6834e-02, -1.8907e-01, -1.6932e-01],\n",
       "         [-1.3131e-01,  1.1632e-01, -1.5564e-01,  1.5480e-01, -2.1119e-02,\n",
       "           1.0291e-01,  1.3516e-01,  1.2172e-01,  1.4937e-01, -1.6443e-01,\n",
       "           1.6584e-01,  6.0755e-02, -6.2484e-02,  1.7143e-02,  2.0252e-01,\n",
       "           1.0650e-01,  7.4425e-02, -1.3815e-01,  1.6123e-01, -1.5216e-01,\n",
       "          -1.8188e-01, -1.4011e-01,  1.0082e-02],\n",
       "         [-1.1375e-01, -1.5587e-02,  1.1425e-01,  6.9821e-02,  2.0480e-01,\n",
       "          -9.2584e-02, -1.3070e-01, -7.7685e-02,  1.5537e-01,  2.0726e-01,\n",
       "          -2.0840e-01,  1.8202e-01, -8.5071e-02,  2.0533e-01,  1.2699e-01,\n",
       "          -6.4610e-02, -1.9377e-01,  6.1403e-02,  6.2331e-02,  1.8882e-01,\n",
       "          -3.8666e-03,  4.9170e-02,  1.6308e-01],\n",
       "         [ 1.0582e-01,  1.7242e-01,  1.2971e-01, -6.5049e-02,  2.0159e-01,\n",
       "          -9.4675e-02, -3.9254e-02,  1.5238e-02, -7.4141e-02,  1.2257e-01,\n",
       "          -1.7422e-01,  9.6036e-02,  7.6164e-02, -3.9898e-02,  5.1844e-02,\n",
       "          -1.6071e-01, -1.4606e-01,  1.0074e-01,  1.2518e-01, -8.1156e-03,\n",
       "           1.6394e-01, -1.7443e-01, -3.7597e-02],\n",
       "         [ 5.7577e-02, -1.6479e-01, -1.8237e-01, -4.5468e-02,  1.3070e-01,\n",
       "           1.5098e-01, -1.0892e-01, -6.3556e-02,  1.0274e-01,  6.1111e-03,\n",
       "          -4.0330e-02,  6.2815e-02,  1.2282e-01,  2.0556e-02,  1.4596e-01,\n",
       "          -1.5299e-01,  1.2852e-01,  1.8663e-01,  1.3730e-01,  1.6373e-01,\n",
       "          -1.2595e-01, -1.1148e-02,  2.7945e-02],\n",
       "         [-6.1102e-02, -7.6829e-02, -1.3238e-03, -1.6907e-01,  1.2373e-01,\n",
       "           5.0169e-02, -1.4788e-01,  4.3634e-02, -1.8318e-01,  9.6174e-02,\n",
       "          -1.9770e-01,  1.0764e-01, -1.4190e-01,  1.7225e-01, -1.4624e-01,\n",
       "          -1.5193e-01,  1.8363e-02,  1.4936e-01,  1.3093e-01, -1.0406e-01,\n",
       "          -6.7635e-02,  1.2629e-01, -7.8312e-02],\n",
       "         [ 7.7848e-02,  2.0075e-01,  5.2795e-03, -2.0356e-01,  3.8856e-02,\n",
       "           1.2157e-01,  4.4117e-03, -3.4296e-02,  9.7022e-02,  7.2647e-02,\n",
       "          -1.9840e-01,  8.1119e-02, -1.4408e-01,  1.9992e-01,  1.2082e-01,\n",
       "          -1.4353e-01,  1.1350e-02,  4.3724e-02, -6.6880e-02, -1.9334e-01,\n",
       "          -1.2788e-01,  4.1014e-02, -2.2639e-02],\n",
       "         [-1.9584e-01, -4.6952e-02,  1.8771e-01,  2.5333e-02,  1.7516e-01,\n",
       "           4.3789e-02, -1.5798e-01, -1.2107e-01,  7.1370e-02,  8.3803e-02,\n",
       "          -1.0222e-01,  1.2722e-02, -1.3377e-01,  1.1126e-01,  7.0036e-02,\n",
       "           1.2817e-01,  1.9892e-01, -1.8604e-01,  5.6481e-02,  5.4845e-02,\n",
       "          -7.8752e-02, -1.4943e-01,  1.0351e-01],\n",
       "         [-1.9294e-01,  4.8696e-02,  7.7191e-02,  1.1042e-01,  1.0791e-01,\n",
       "           1.7182e-01, -1.8919e-01, -1.3113e-01, -3.2853e-02,  1.2631e-01,\n",
       "           7.7965e-02, -2.3672e-02,  1.7382e-01,  2.8779e-02, -9.8676e-02,\n",
       "          -7.2560e-02, -9.9004e-02, -8.5131e-02, -1.1756e-01, -1.9435e-01,\n",
       "          -1.4074e-01,  6.9547e-02,  5.2493e-02],\n",
       "         [-1.6677e-01, -1.3077e-01,  6.5340e-02,  2.3024e-02, -3.9116e-02,\n",
       "           1.5837e-01, -1.9372e-01,  8.8315e-02,  1.0174e-01,  1.3442e-01,\n",
       "           3.5388e-02, -1.4149e-01,  3.9252e-02,  1.4280e-01, -1.8101e-01,\n",
       "          -1.6540e-01,  1.8399e-01,  8.4341e-03, -1.4403e-01,  1.1672e-01,\n",
       "           4.0375e-02, -1.2046e-01,  1.1282e-01],\n",
       "         [ 6.1402e-02,  2.0164e-01,  2.8196e-02,  1.6761e-01,  2.2271e-02,\n",
       "          -5.0070e-02, -4.9046e-02, -8.6257e-02, -7.6190e-02,  1.2136e-02,\n",
       "          -2.0355e-01, -1.1199e-01, -6.1708e-03, -1.3816e-01, -8.6793e-02,\n",
       "           8.6802e-03, -1.1277e-01,  8.3770e-02,  1.3565e-03,  1.7806e-02,\n",
       "           1.8562e-01, -5.3243e-05, -2.8833e-02]], requires_grad=True),\n",
       " Parameter containing:\n",
       " tensor([-0.0485,  0.0338,  0.0723, -0.0824, -0.0904, -0.1829,  0.1478,  0.0506,\n",
       "         -0.0155, -0.0323, -0.0121,  0.0546,  0.0091, -0.0555, -0.0134,  0.1479,\n",
       "          0.2018, -0.0640,  0.1216,  0.0101, -0.1619, -0.1683, -0.1976,  0.0582,\n",
       "          0.1578, -0.1756, -0.1089, -0.0846,  0.0647, -0.0739,  0.0341,  0.1474],\n",
       "        requires_grad=True),\n",
       " Parameter containing:\n",
       " tensor([[-0.0104,  0.1001, -0.1102,  ...,  0.0675, -0.1155,  0.1475],\n",
       "         [ 0.0539, -0.0043,  0.1446,  ..., -0.1341,  0.0366,  0.1473],\n",
       "         [-0.0205, -0.1768,  0.1733,  ..., -0.0340, -0.1186, -0.0196],\n",
       "         ...,\n",
       "         [-0.0197, -0.0031, -0.0003,  ...,  0.1377, -0.1013, -0.0739],\n",
       "         [ 0.1767, -0.0979,  0.0527,  ..., -0.0912, -0.0240,  0.1387],\n",
       "         [-0.0693, -0.1446,  0.1114,  ...,  0.0022, -0.0622, -0.0987]],\n",
       "        requires_grad=True),\n",
       " Parameter containing:\n",
       " tensor([ 0.0153,  0.0798,  0.1114, -0.0729, -0.0117,  0.1003,  0.1178, -0.0084,\n",
       "         -0.0246,  0.0948, -0.1325,  0.1214,  0.0840, -0.1386,  0.1211, -0.1371,\n",
       "         -0.0978, -0.1271,  0.1433, -0.1276, -0.0153,  0.0601, -0.1480, -0.1550,\n",
       "          0.0432, -0.0413,  0.0798,  0.0766, -0.0492, -0.1097,  0.0889, -0.0835,\n",
       "         -0.0339, -0.0426, -0.0846,  0.1658, -0.0791,  0.1285, -0.0807,  0.0047,\n",
       "          0.1311,  0.1297,  0.1429, -0.0201, -0.1628, -0.0017],\n",
       "        requires_grad=True)]"
      ]
     },
     "execution_count": 22,
     "metadata": {},
     "output_type": "execute_result"
    }
   ],
   "source": [
    "list(nca.parameters())"
   ]
  },
  {
   "cell_type": "code",
   "execution_count": 23,
   "id": "64a143e2-7c66-48c4-8ddc-3471d8a355fe",
   "metadata": {
    "scrolled": true,
    "tags": []
   },
   "outputs": [
    {
     "name": "stdout",
     "output_type": "stream",
     "text": [
      "ini graph torch.Size([2, 23])\n",
      "ini graph in grow torch.Size([2, 23])\n",
      "grown graph torch.Size([3, 23])\n",
      "returned graph torch.Size([3, 23])\n",
      "------\n",
      "ini graph torch.Size([3, 23])\n",
      "ini graph in grow torch.Size([3, 23])\n",
      "grown graph torch.Size([4, 23])\n",
      "returned graph torch.Size([4, 23])\n",
      "------\n",
      "ini graph torch.Size([4, 23])\n",
      "ini graph in grow torch.Size([4, 23])\n",
      "grown graph torch.Size([5, 23])\n",
      "returned graph torch.Size([5, 23])\n",
      "------\n",
      "ini graph torch.Size([5, 23])\n",
      "ini graph in grow torch.Size([5, 23])\n",
      "grown graph torch.Size([6, 23])\n",
      "returned graph torch.Size([6, 23])\n",
      "------\n",
      "ini graph torch.Size([6, 23])\n",
      "ini graph in grow torch.Size([6, 23])\n",
      "grown graph torch.Size([7, 23])\n",
      "returned graph torch.Size([7, 23])\n",
      "------\n",
      "ini graph torch.Size([7, 23])\n",
      "ini graph in grow torch.Size([7, 23])\n",
      "grown graph torch.Size([8, 23])\n",
      "returned graph torch.Size([8, 23])\n",
      "------\n",
      "ini graph torch.Size([8, 23])\n",
      "ini graph in grow torch.Size([8, 23])\n",
      "grown graph torch.Size([9, 23])\n",
      "returned graph torch.Size([9, 23])\n",
      "------\n",
      "ini graph torch.Size([9, 23])\n",
      "ini graph in grow torch.Size([9, 23])\n",
      "grown graph torch.Size([10, 23])\n",
      "returned graph torch.Size([10, 23])\n",
      "------\n",
      "ini graph torch.Size([10, 23])\n",
      "ini graph in grow torch.Size([10, 23])\n",
      "grown graph torch.Size([11, 23])\n",
      "returned graph torch.Size([11, 23])\n",
      "------\n",
      "ini graph torch.Size([11, 23])\n",
      "ini graph in grow torch.Size([11, 23])\n",
      "grown graph torch.Size([12, 23])\n",
      "returned graph torch.Size([12, 23])\n",
      "------\n"
     ]
    },
    {
     "data": {
      "text/plain": [
       "<Figure size 640x480 with 0 Axes>"
      ]
     },
     "metadata": {},
     "output_type": "display_data"
    }
   ],
   "source": [
    "from matplotlib import pyplot as plt\n",
    "from celluloid import Camera\n",
    "from IPython.display import HTML\n",
    "\n",
    "fig = plt.figure()\n",
    "camera = Camera(fig)\n",
    "\n",
    "images = []\n",
    "img = graph.plot(fig=fig)\n",
    "fig.clear()\n",
    "images.append(img)\n",
    "for i in range(10):\n",
    "    print(\"ini graph\",graph.nodes.size())\n",
    "    graph = nca.grow(graph = graph, parent_index=i)\n",
    "    print(\"returned graph\",graph.nodes.size())\n",
    "    print(\"------\")\n",
    "    img = graph.plot(fig=fig)\n",
    "    # camera.snap()\n",
    "    fig.clear()\n",
    "    images.append(img)\n",
    "\n",
    "# animation = camera.animate()"
   ]
  },
  {
   "cell_type": "code",
   "execution_count": 24,
   "id": "f0fdb22a-f0a7-43c7-90cc-316b13ff2f32",
   "metadata": {},
   "outputs": [
    {
     "data": {
      "text/plain": [
       "torch.Size([12, 23])"
      ]
     },
     "execution_count": 24,
     "metadata": {},
     "output_type": "execute_result"
    }
   ],
   "source": [
    "graph.nodes.size()"
   ]
  },
  {
   "cell_type": "code",
   "execution_count": 25,
   "id": "d01f06ca-e723-4662-b64c-c7e8dd59415c",
   "metadata": {},
   "outputs": [],
   "source": [
    "# generated_network = graph.generate_network()"
   ]
  },
  {
   "cell_type": "code",
   "execution_count": 26,
   "id": "9761d123-6a5c-4a58-9aeb-440c4f606366",
   "metadata": {},
   "outputs": [],
   "source": [
    "# outputs, nodes = generated_network.batch_forward(torch.randn(32, 2))"
   ]
  },
  {
   "cell_type": "code",
   "execution_count": 27,
   "id": "5359a162-518b-47cd-85d6-374c00e8af33",
   "metadata": {},
   "outputs": [],
   "source": [
    "# nodes.size()"
   ]
  },
  {
   "cell_type": "code",
   "execution_count": 28,
   "id": "2b53ceeb-d10e-444d-b9b6-3895ef6544e0",
   "metadata": {},
   "outputs": [],
   "source": [
    "# from functorch import vmap\n",
    "\n",
    "# def batch_forward(inp):\n",
    "#     return generated_network(inp)\n",
    "\n",
    "# examples = torch.randn(32, 2)\n",
    "\n",
    "# result = vmap(batch_forward, randomness='different')(examples)"
   ]
  },
  {
   "cell_type": "code",
   "execution_count": 29,
   "id": "321835ec-6335-4fea-b73f-350abaab118e",
   "metadata": {},
   "outputs": [],
   "source": [
    "from PIL import Image"
   ]
  },
  {
   "cell_type": "code",
   "execution_count": 30,
   "id": "0882d145-69d1-4696-80ed-cf1fdb96e9ac",
   "metadata": {},
   "outputs": [],
   "source": [
    "imgs = [Image.fromarray(img) for img in images]\n"
   ]
  },
  {
   "cell_type": "code",
   "execution_count": 31,
   "id": "bf07ed67-47d8-4fa6-8d55-89c0193cdae9",
   "metadata": {},
   "outputs": [
    {
     "data": {
      "text/plain": [
       "<matplotlib.image.AxesImage at 0x7e3ddf1a3580>"
      ]
     },
     "execution_count": 31,
     "metadata": {},
     "output_type": "execute_result"
    },
    {
     "data": {
      "image/png": "[encoded data removed]",
      "text/plain": [
       "<Figure size 640x480 with 1 Axes>"
      ]
     },
     "metadata": {},
     "output_type": "display_data"
    }
   ],
   "source": [
    "plt.imshow(images[-1])"
   ]
  },
  {
   "cell_type": "code",
   "execution_count": 32,
   "id": "04da48cb-a614-461b-9720-22d9b3e22b7e",
   "metadata": {},
   "outputs": [],
   "source": [
    "Image.fromarray(images[1]).save(\"next_step.png\")"
   ]
  },
  {
   "cell_type": "code",
   "execution_count": 33,
   "id": "93901ad4-17d6-4425-a941-ddbc4b5c6c47",
   "metadata": {},
   "outputs": [],
   "source": [
    "imgs[0].save(\"array2.gif\", save_all=True, append_images=imgs[1:], duration=1000, loop=0)"
   ]
  },
  {
   "cell_type": "code",
   "execution_count": null,
   "id": "ed651cb0-4cc7-4e5a-a86f-f9c46fa9c06b",
   "metadata": {},
   "outputs": [
    {
     "ename": "NameError",
     "evalue": "name 'animation' is not defined",
     "output_type": "error",
     "traceback": [
      "\u001b[0;31m---------------------------------------------------------------------------\u001b[0m",
      "\u001b[0;31mNameError\u001b[0m                                 Traceback (most recent call last)",
      "Cell \u001b[0;32mIn[48], line 1\u001b[0m\n\u001b[0;32m----> 1\u001b[0m HTML(\u001b[43manimation\u001b[49m\u001b[38;5;241m.\u001b[39mto_html5_video())\n",
      "\u001b[0;31mNameError\u001b[0m: name 'animation' is not defined"
     ]
    }
   ],
   "source": [
    "HTML(animation.to_html5_video())\n"
   ]
  },
  {
   "cell_type": "code",
   "execution_count": null,
   "id": "a05c3020-182d-45a0-8b4a-eb5af13f9bd8",
   "metadata": {},
   "outputs": [],
   "source": [
    "generated_network = GeneratedNetwork(graph)"
   ]
  },
  {
   "cell_type": "code",
   "execution_count": 11,
   "id": "5d19c876-77c7-4a83-93b0-907e7ef49d33",
   "metadata": {},
   "outputs": [
    {
     "data": {
      "text/plain": [
       "tensor([[-14.3090],\n",
       "        [ 67.7032]], grad_fn=<IndexBackward0>)"
      ]
     },
     "execution_count": 11,
     "metadata": {},
     "output_type": "execute_result"
    }
   ],
   "source": [
    "generated_network(torch.ones(2))[graph.output_nodes]"
   ]
  },
  {
   "cell_type": "markdown",
   "id": "b01d4877-8d57-45bf-a76b-0f77db85778c",
   "metadata": {},
   "source": [
    "#### RL"
   ]
  },
  {
   "cell_type": "code",
   "execution_count": 4,
   "id": "9f9b171b-7016-48de-9b8f-65aee1495b0b",
   "metadata": {},
   "outputs": [],
   "source": [
    "import torch\n",
    "import torch.nn as nn\n",
    "import torch.optim as optim\n",
    "from typing import Any, Dict, Optional, Callable\n",
    "import torch.distributions as td\n",
    "import numpy as np\n",
    "import gym"
   ]
  },
  {
   "cell_type": "code",
   "execution_count": 5,
   "id": "50b3e5ab-10f9-439f-817a-24b64fcacbd4",
   "metadata": {},
   "outputs": [],
   "source": [
    "# from ezrl.optimizer import RLOptimizer\n",
    "# from ezrl.policy import GymPolicy\n",
    "# from ezrl.algorithms.reinforce import ReinforceOptimizer"
   ]
  },
  {
   "cell_type": "code",
   "execution_count": 11,
   "id": "09b8c1fc-7a74-4ee9-9241-6716a9973829",
   "metadata": {},
   "outputs": [],
   "source": [
    "from growing_nn.graph.directed_graph import DirectedGraph\n",
    "from growing_nn.graph.graph_nca import GraphNCA\n",
    "from growing_nn.graph.generated_network import GeneratedNetwork\n",
    "from ezrl.optimizer import RLOptimizer\n",
    "from ezrl.policy import GymPolicy\n",
    "from ezrl.algorithms.reinforce import ReinforceOptimizer"
   ]
  },
  {
   "cell_type": "code",
   "execution_count": 6,
   "id": "25a04f5a-51f9-4ca9-b201-35fd3c02df0e",
   "metadata": {},
   "outputs": [
    {
     "name": "stderr",
     "output_type": "stream",
     "text": [
      "/home/shyam/anaconda3/envs/pytorch_geometric/lib/python3.8/site-packages/gym/core.py:329: DeprecationWarning: \u001b[33mWARN: Initializing wrapper in old step API which returns one bool instead of two. It is recommended to set `new_step_api=True` to use new step API. This will be the default behaviour in future.\u001b[0m\n",
      "  deprecation(\n",
      "/home/shyam/anaconda3/envs/pytorch_geometric/lib/python3.8/site-packages/gym/wrappers/step_api_compatibility.py:39: DeprecationWarning: \u001b[33mWARN: Initializing environment in old step API which returns one bool instead of two. It is recommended to set `new_step_api=True` to use new step API. This will be the default behaviour in future.\u001b[0m\n",
      "  deprecation(\n"
     ]
    }
   ],
   "source": [
    "env = gym.make(\"LunarLander-v2\")"
   ]
  },
  {
   "cell_type": "code",
   "execution_count": 24,
   "id": "f57cf168-e931-47f0-ad15-22e1b6ebcce9",
   "metadata": {},
   "outputs": [],
   "source": [
    "class LunarLanderNCAPolicy(GymPolicy):\n",
    "    def __init__(self, nca, num_growth_steps: int = 3):\n",
    "        super().__init__()\n",
    "        self.input_dims = 8\n",
    "        self.output_dims = 4\n",
    "        self.num_growth_steps = num_growth_steps\n",
    "\n",
    "        self.nca = nca\n",
    "\n",
    "    def generate_network(self, num_steps):\n",
    "        graph = self.nca.grow(self.nca.graph, num_steps)\n",
    "        generated_network = graph.generate_network()\n",
    "        return generated_network\n",
    "\n",
    "    def forward(self, obs: Any, generated_network = None) -> Dict[str, Any]:\n",
    "        if generated_network is not None:\n",
    "            generated_network = self.generate_network(self.num_growth_steps)\n",
    "        logits = generated_network.batch_forward(inputs=obs)\n",
    "        dist = td.Categorical(logits=logits)\n",
    "        action = dist.sample()\n",
    "        return {\"action\":action, \"dist\":dist}\n",
    "\n",
    "    def act(self, obs: Any, generated_network = None):\n",
    "        out = self.forward(obs, generated_network)\n",
    "        return out[\"action\"].item(), out"
   ]
  },
  {
   "cell_type": "code",
   "execution_count": 25,
   "id": "205a8ce5-aa76-4267-8c41-ba8dbc553fee",
   "metadata": {},
   "outputs": [],
   "source": [
    "def reinforce_rollout(\n",
    "    policy: GymPolicy, env_name: str = None, env=None, env_creation_fn=None\n",
    "):\n",
    "    if env_name is None and env is None:\n",
    "        raise ValueError(\"env_name or env must be provided!\")\n",
    "    if env is None:\n",
    "        if env_creation_fn is None:\n",
    "            env_creation_fn = gym.make\n",
    "        env = env_creation_fn(env_name)\n",
    "    done = False\n",
    "    observations, actions, rewards = (\n",
    "        [],\n",
    "        [],\n",
    "        [],\n",
    "    )\n",
    "    observation = env.reset()\n",
    "    with torch.no_grad():\n",
    "        generated_network = policy.generate_network(policy.num_growth_steps)\n",
    "        while not done:\n",
    "            action, out = policy.act(\n",
    "                torch.from_numpy(observation).unsqueeze(0).to(policy.device), generated_network\n",
    "            )\n",
    "            next_observation, reward, done, info = env.step(action)\n",
    "\n",
    "            observations.append(observation)\n",
    "            actions.append(action)\n",
    "            rewards.append(reward)\n",
    "\n",
    "            observation = next_observation\n",
    "\n",
    "    return np.array(observations), np.array(actions), np.array(rewards)\n"
   ]
  },
  {
   "cell_type": "code",
   "execution_count": 26,
   "id": "342d764b-7948-4007-88ac-d019c104eff0",
   "metadata": {
    "scrolled": true,
    "tags": []
   },
   "outputs": [],
   "source": [
    "from torch.utils.tensorboard import SummaryWriter\n",
    "import os\n",
    "from datetime import datetime\n",
    "\n",
    "def get_tensorboard_logger(experiment_name: str, base_log_path: str = \"tensorboard_logs\"):\n",
    "    log_path = \"{}/{}_{}\".format(\n",
    "            base_log_path, experiment_name, datetime.now()\n",
    "        )\n",
    "    train_writer = SummaryWriter(log_path, flush_secs=10)\n",
    "    full_log_path = os.path.join(os.getcwd(), log_path)\n",
    "    print(\n",
    "        \"Follow tensorboard logs with: tensorboard --logdir '{}'\".format(\n",
    "            full_log_path\n",
    "        )\n",
    "    )\n",
    "    return train_writer"
   ]
  },
  {
   "cell_type": "code",
   "execution_count": 27,
   "id": "7b7aa00a-e202-4fe8-92b8-4b985c662c03",
   "metadata": {},
   "outputs": [],
   "source": [
    "NUM_OPERATIONS = 3\n",
    "NUM_ACTIVATIONS = 2\n",
    "NUM_HIDDEN_CHANNELS = 24\n",
    "\n",
    "NUM_CHANNELS = GraphNCA.get_number_of_channels(NUM_OPERATIONS, NUM_ACTIVATIONS, NUM_HIDDEN_CHANNELS)"
   ]
  },
  {
   "cell_type": "code",
   "execution_count": 34,
   "id": "54dbfbb3-4e7d-4e55-83d7-744c1adc357c",
   "metadata": {},
   "outputs": [],
   "source": [
    "def make_inital_graph(num_inputs, num_outputs, device):\n",
    "    x = torch.ones((num_inputs + num_outputs, NUM_CHANNELS), device=device)\n",
    "    edge_dict = {}\n",
    "    for i in range(num_inputs):\n",
    "        edge_dict[i] = list(range(num_inputs, num_inputs+num_outputs))\n",
    "    for i in range(num_inputs, num_inputs+num_outputs):\n",
    "        edge_dict[i] = []\n",
    "    return Graph(x, edge_dict, num_inputs, num_outputs)"
   ]
  },
  {
   "cell_type": "code",
   "execution_count": 35,
   "id": "c0234e88-57e2-410d-81c5-6d6e593bb64d",
   "metadata": {},
   "outputs": [],
   "source": [
    "device = torch.device('cuda')\n",
    "\n",
    "graph = make_inital_graph(8, 4, device)"
   ]
  },
  {
   "cell_type": "code",
   "execution_count": 36,
   "id": "03d66194-1a8a-4a74-96eb-1f457aa4e542",
   "metadata": {},
   "outputs": [
    {
     "data": {
      "image/png": "[encoded data removed]",
      "text/plain": [
       "<Figure size 432x288 with 1 Axes>"
      ]
     },
     "metadata": {},
     "output_type": "display_data"
    }
   ],
   "source": [
    "image = graph.plot()"
   ]
  },
  {
   "cell_type": "code",
   "execution_count": 40,
   "id": "4e00767e-46d3-4de4-b2aa-979e5db4bcda",
   "metadata": {},
   "outputs": [
    {
     "data": {
      "text/plain": [
       "tensor([[1., 1., 1., 1., 1., 1., 1., 1., 1., 1., 1., 1., 1., 1., 1., 1., 1., 1.,\n",
       "         1., 1., 1., 1., 1., 1., 1., 1., 1., 1., 1., 1., 1.],\n",
       "        [1., 1., 1., 1., 1., 1., 1., 1., 1., 1., 1., 1., 1., 1., 1., 1., 1., 1.,\n",
       "         1., 1., 1., 1., 1., 1., 1., 1., 1., 1., 1., 1., 1.],\n",
       "        [1., 1., 1., 1., 1., 1., 1., 1., 1., 1., 1., 1., 1., 1., 1., 1., 1., 1.,\n",
       "         1., 1., 1., 1., 1., 1., 1., 1., 1., 1., 1., 1., 1.],\n",
       "        [1., 1., 1., 1., 1., 1., 1., 1., 1., 1., 1., 1., 1., 1., 1., 1., 1., 1.,\n",
       "         1., 1., 1., 1., 1., 1., 1., 1., 1., 1., 1., 1., 1.],\n",
       "        [1., 1., 1., 1., 1., 1., 1., 1., 1., 1., 1., 1., 1., 1., 1., 1., 1., 1.,\n",
       "         1., 1., 1., 1., 1., 1., 1., 1., 1., 1., 1., 1., 1.],\n",
       "        [1., 1., 1., 1., 1., 1., 1., 1., 1., 1., 1., 1., 1., 1., 1., 1., 1., 1.,\n",
       "         1., 1., 1., 1., 1., 1., 1., 1., 1., 1., 1., 1., 1.],\n",
       "        [1., 1., 1., 1., 1., 1., 1., 1., 1., 1., 1., 1., 1., 1., 1., 1., 1., 1.,\n",
       "         1., 1., 1., 1., 1., 1., 1., 1., 1., 1., 1., 1., 1.],\n",
       "        [1., 1., 1., 1., 1., 1., 1., 1., 1., 1., 1., 1., 1., 1., 1., 1., 1., 1.,\n",
       "         1., 1., 1., 1., 1., 1., 1., 1., 1., 1., 1., 1., 1.],\n",
       "        [1., 1., 1., 1., 1., 1., 1., 1., 1., 1., 1., 1., 1., 1., 1., 1., 1., 1.,\n",
       "         1., 1., 1., 1., 1., 1., 1., 1., 1., 1., 1., 1., 1.],\n",
       "        [1., 1., 1., 1., 1., 1., 1., 1., 1., 1., 1., 1., 1., 1., 1., 1., 1., 1.,\n",
       "         1., 1., 1., 1., 1., 1., 1., 1., 1., 1., 1., 1., 1.],\n",
       "        [1., 1., 1., 1., 1., 1., 1., 1., 1., 1., 1., 1., 1., 1., 1., 1., 1., 1.,\n",
       "         1., 1., 1., 1., 1., 1., 1., 1., 1., 1., 1., 1., 1.],\n",
       "        [1., 1., 1., 1., 1., 1., 1., 1., 1., 1., 1., 1., 1., 1., 1., 1., 1., 1.,\n",
       "         1., 1., 1., 1., 1., 1., 1., 1., 1., 1., 1., 1., 1.]], device='cuda:0')"
      ]
     },
     "execution_count": 40,
     "metadata": {},
     "output_type": "execute_result"
    }
   ],
   "source": [
    "graph.nodes"
   ]
  },
  {
   "cell_type": "code",
   "execution_count": 37,
   "id": "1e6e80b0-b698-42e8-9a70-f54df67959a3",
   "metadata": {},
   "outputs": [],
   "source": [
    "nca = GraphNCA(graph, NUM_HIDDEN_CHANNELS)"
   ]
  },
  {
   "cell_type": "code",
   "execution_count": 38,
   "id": "2a951d8f-e2ca-4a22-8e7f-36f542d0c827",
   "metadata": {},
   "outputs": [],
   "source": [
    "from tqdm import tqdm\n",
    "\n",
    "\n",
    "policy = LunarLanderNCAPolicy(nca,num_growth_steps=16)\n",
    "policy = policy.to(device)"
   ]
  },
  {
   "cell_type": "code",
   "execution_count": 39,
   "id": "953c4c6f-d64e-4af5-8e69-9e7efcdf2a5a",
   "metadata": {},
   "outputs": [
    {
     "name": "stderr",
     "output_type": "stream",
     "text": [
      "  0%|                                                                         | 0/50000 [00:00<?, ?it/s]"
     ]
    },
    {
     "name": "stdout",
     "output_type": "stream",
     "text": [
      "Follow tensorboard logs with: tensorboard --logdir '/home/shyam/Code/growing-nn/notebooks/tensorboard_logs/ReinforceLunarLander_2022-08-14 16:52:22.039353'\n"
     ]
    },
    {
     "name": "stderr",
     "output_type": "stream",
     "text": [
      "  0%|                                                                         | 0/50000 [00:01<?, ?it/s]\n"
     ]
    },
    {
     "ename": "RuntimeError",
     "evalue": "Expected all tensors to be on the same device, but found at least two devices, cuda:0 and cpu! (when checking argument for argument index in method wrapper__index_select)",
     "output_type": "error",
     "traceback": [
      "\u001b[0;31m---------------------------------------------------------------------------\u001b[0m",
      "\u001b[0;31mRuntimeError\u001b[0m                              Traceback (most recent call last)",
      "Input \u001b[0;32mIn [39]\u001b[0m, in \u001b[0;36m<cell line: 6>\u001b[0;34m()\u001b[0m\n\u001b[1;32m      4\u001b[0m optimizer \u001b[38;5;241m=\u001b[39m ReinforceOptimizer(policy, lr\u001b[38;5;241m=\u001b[39m\u001b[38;5;241m0.001\u001b[39m)\n\u001b[1;32m      6\u001b[0m \u001b[38;5;28;01mfor\u001b[39;00m i \u001b[38;5;129;01min\u001b[39;00m bar:\n\u001b[0;32m----> 7\u001b[0m     observations, actions, rewards \u001b[38;5;241m=\u001b[39m \u001b[43moptimizer\u001b[49m\u001b[38;5;241;43m.\u001b[39;49m\u001b[43mrollout\u001b[49m\u001b[43m(\u001b[49m\u001b[43mreinforce_rollout\u001b[49m\u001b[43m,\u001b[49m\u001b[43m \u001b[49m\u001b[43menv_name\u001b[49m\u001b[43m \u001b[49m\u001b[38;5;241;43m=\u001b[39;49m\u001b[43m \u001b[49m\u001b[38;5;124;43m\"\u001b[39;49m\u001b[38;5;124;43mLunarLander-v2\u001b[39;49m\u001b[38;5;124;43m\"\u001b[39;49m\u001b[43m)\u001b[49m\n\u001b[1;32m      9\u001b[0m     torch_observations \u001b[38;5;241m=\u001b[39m torch\u001b[38;5;241m.\u001b[39mfrom_numpy(observations)\u001b[38;5;241m.\u001b[39mto(policy\u001b[38;5;241m.\u001b[39mdevice)\n\u001b[1;32m     10\u001b[0m     torch_actions \u001b[38;5;241m=\u001b[39m torch\u001b[38;5;241m.\u001b[39mfrom_numpy(actions)\u001b[38;5;241m.\u001b[39mfloat()\u001b[38;5;241m.\u001b[39mto(policy\u001b[38;5;241m.\u001b[39mdevice)\n",
      "File \u001b[0;32m~/anaconda3/envs/pytorch_geometric/lib/python3.8/site-packages/ezrl-0.1.0-py3.8.egg/ezrl/algorithms/reinforce.py:98\u001b[0m, in \u001b[0;36mReinforceOptimizer.rollout\u001b[0;34m(self, rollout_fn, pool, num_rollouts, *args, **kwargs)\u001b[0m\n\u001b[1;32m     96\u001b[0m \u001b[38;5;28;01mif\u001b[39;00m rollout_fn \u001b[38;5;129;01mis\u001b[39;00m \u001b[38;5;28;01mNone\u001b[39;00m:\n\u001b[1;32m     97\u001b[0m     rollout_fn \u001b[38;5;241m=\u001b[39m reinforce_rollout\n\u001b[0;32m---> 98\u001b[0m \u001b[38;5;28;01mreturn\u001b[39;00m \u001b[43mrollout_fn\u001b[49m\u001b[43m(\u001b[49m\u001b[38;5;28;43mself\u001b[39;49m\u001b[38;5;241;43m.\u001b[39;49m\u001b[43mpolicy\u001b[49m\u001b[43m,\u001b[49m\u001b[43m \u001b[49m\u001b[38;5;241;43m*\u001b[39;49m\u001b[43margs\u001b[49m\u001b[43m,\u001b[49m\u001b[43m \u001b[49m\u001b[38;5;241;43m*\u001b[39;49m\u001b[38;5;241;43m*\u001b[39;49m\u001b[43mkwargs\u001b[49m\u001b[43m)\u001b[49m\n",
      "Input \u001b[0;32mIn [25]\u001b[0m, in \u001b[0;36mreinforce_rollout\u001b[0;34m(policy, env_name, env, env_creation_fn)\u001b[0m\n\u001b[1;32m     16\u001b[0m observation \u001b[38;5;241m=\u001b[39m env\u001b[38;5;241m.\u001b[39mreset()\n\u001b[1;32m     17\u001b[0m \u001b[38;5;28;01mwith\u001b[39;00m torch\u001b[38;5;241m.\u001b[39mno_grad():\n\u001b[0;32m---> 18\u001b[0m     generated_network \u001b[38;5;241m=\u001b[39m \u001b[43mpolicy\u001b[49m\u001b[38;5;241;43m.\u001b[39;49m\u001b[43mgenerate_network\u001b[49m\u001b[43m(\u001b[49m\u001b[43mpolicy\u001b[49m\u001b[38;5;241;43m.\u001b[39;49m\u001b[43mnum_growth_steps\u001b[49m\u001b[43m)\u001b[49m\n\u001b[1;32m     19\u001b[0m     \u001b[38;5;28;01mwhile\u001b[39;00m \u001b[38;5;129;01mnot\u001b[39;00m done:\n\u001b[1;32m     20\u001b[0m         action, out \u001b[38;5;241m=\u001b[39m policy\u001b[38;5;241m.\u001b[39mact(\n\u001b[1;32m     21\u001b[0m             torch\u001b[38;5;241m.\u001b[39mfrom_numpy(observation)\u001b[38;5;241m.\u001b[39munsqueeze(\u001b[38;5;241m0\u001b[39m)\u001b[38;5;241m.\u001b[39mto(policy\u001b[38;5;241m.\u001b[39mdevice), generated_network\n\u001b[1;32m     22\u001b[0m         )\n",
      "Input \u001b[0;32mIn [24]\u001b[0m, in \u001b[0;36mLunarLanderNCAPolicy.generate_network\u001b[0;34m(self, num_steps)\u001b[0m\n\u001b[1;32m     10\u001b[0m \u001b[38;5;28;01mdef\u001b[39;00m \u001b[38;5;21mgenerate_network\u001b[39m(\u001b[38;5;28mself\u001b[39m, num_steps):\n\u001b[0;32m---> 11\u001b[0m     graph \u001b[38;5;241m=\u001b[39m \u001b[38;5;28;43mself\u001b[39;49m\u001b[38;5;241;43m.\u001b[39;49m\u001b[43mnca\u001b[49m\u001b[38;5;241;43m.\u001b[39;49m\u001b[43mgrow\u001b[49m\u001b[43m(\u001b[49m\u001b[43mnum_steps\u001b[49m\u001b[43m)\u001b[49m\n\u001b[1;32m     12\u001b[0m     generated_network \u001b[38;5;241m=\u001b[39m graph\u001b[38;5;241m.\u001b[39mgenerate_network()\n\u001b[1;32m     13\u001b[0m     \u001b[38;5;28;01mreturn\u001b[39;00m generated_network\n",
      "File \u001b[0;32m~/anaconda3/envs/pytorch_geometric/lib/python3.8/site-packages/growing_nn-0.1.0-py3.8.egg/growing_nn/graph/graph_nca.py:105\u001b[0m, in \u001b[0;36mGraphNCA.grow\u001b[0;34m(self, num_iterations, replicate_interval)\u001b[0m\n\u001b[1;32m    103\u001b[0m \u001b[38;5;28;01mfor\u001b[39;00m i \u001b[38;5;129;01min\u001b[39;00m \u001b[38;5;28mrange\u001b[39m(num_iterations):\n\u001b[1;32m    104\u001b[0m     data \u001b[38;5;241m=\u001b[39m \u001b[38;5;28mself\u001b[39m\u001b[38;5;241m.\u001b[39mgraph\u001b[38;5;241m.\u001b[39mto_data()\n\u001b[0;32m--> 105\u001b[0m     data\u001b[38;5;241m.\u001b[39mx \u001b[38;5;241m=\u001b[39m \u001b[38;5;28;43mself\u001b[39;49m\u001b[38;5;241;43m.\u001b[39;49m\u001b[43mforward\u001b[49m\u001b[43m(\u001b[49m\u001b[43mdata\u001b[49m\u001b[38;5;241;43m.\u001b[39;49m\u001b[43mx\u001b[49m\u001b[43m,\u001b[49m\u001b[43m \u001b[49m\u001b[43mdata\u001b[49m\u001b[38;5;241;43m.\u001b[39;49m\u001b[43medge_index\u001b[49m\u001b[43m)\u001b[49m\n\u001b[1;32m    106\u001b[0m     \u001b[38;5;28mself\u001b[39m\u001b[38;5;241m.\u001b[39mgraph\u001b[38;5;241m.\u001b[39mnodes \u001b[38;5;241m=\u001b[39m data\u001b[38;5;241m.\u001b[39mx\n\u001b[1;32m    108\u001b[0m     \u001b[38;5;28;01mif\u001b[39;00m replicate_interval \u001b[38;5;129;01mis\u001b[39;00m \u001b[38;5;129;01mnot\u001b[39;00m \u001b[38;5;28;01mNone\u001b[39;00m:\n",
      "File \u001b[0;32m~/anaconda3/envs/pytorch_geometric/lib/python3.8/site-packages/growing_nn-0.1.0-py3.8.egg/growing_nn/graph/graph_nca.py:56\u001b[0m, in \u001b[0;36mGraphNCA.forward\u001b[0;34m(self, x, edge_index)\u001b[0m\n\u001b[1;32m     55\u001b[0m \u001b[38;5;28;01mdef\u001b[39;00m \u001b[38;5;21mforward\u001b[39m(\u001b[38;5;28mself\u001b[39m, x, edge_index):\n\u001b[0;32m---> 56\u001b[0m     features \u001b[38;5;241m=\u001b[39m \u001b[38;5;28;43mself\u001b[39;49m\u001b[38;5;241;43m.\u001b[39;49m\u001b[43mperception_net\u001b[49m\u001b[43m(\u001b[49m\u001b[43mx\u001b[49m\u001b[43m,\u001b[49m\u001b[43m \u001b[49m\u001b[43medge_index\u001b[49m\u001b[43m)\u001b[49m\n\u001b[1;32m     57\u001b[0m     update \u001b[38;5;241m=\u001b[39m \u001b[38;5;28mself\u001b[39m\u001b[38;5;241m.\u001b[39mupdate_net(features)\n\u001b[1;32m     58\u001b[0m     x \u001b[38;5;241m=\u001b[39m x \u001b[38;5;241m+\u001b[39m update\n",
      "File \u001b[0;32m~/anaconda3/envs/pytorch_geometric/lib/python3.8/site-packages/torch/nn/modules/module.py:1130\u001b[0m, in \u001b[0;36mModule._call_impl\u001b[0;34m(self, *input, **kwargs)\u001b[0m\n\u001b[1;32m   1126\u001b[0m \u001b[38;5;66;03m# If we don't have any hooks, we want to skip the rest of the logic in\u001b[39;00m\n\u001b[1;32m   1127\u001b[0m \u001b[38;5;66;03m# this function, and just call forward.\u001b[39;00m\n\u001b[1;32m   1128\u001b[0m \u001b[38;5;28;01mif\u001b[39;00m \u001b[38;5;129;01mnot\u001b[39;00m (\u001b[38;5;28mself\u001b[39m\u001b[38;5;241m.\u001b[39m_backward_hooks \u001b[38;5;129;01mor\u001b[39;00m \u001b[38;5;28mself\u001b[39m\u001b[38;5;241m.\u001b[39m_forward_hooks \u001b[38;5;129;01mor\u001b[39;00m \u001b[38;5;28mself\u001b[39m\u001b[38;5;241m.\u001b[39m_forward_pre_hooks \u001b[38;5;129;01mor\u001b[39;00m _global_backward_hooks\n\u001b[1;32m   1129\u001b[0m         \u001b[38;5;129;01mor\u001b[39;00m _global_forward_hooks \u001b[38;5;129;01mor\u001b[39;00m _global_forward_pre_hooks):\n\u001b[0;32m-> 1130\u001b[0m     \u001b[38;5;28;01mreturn\u001b[39;00m \u001b[43mforward_call\u001b[49m\u001b[43m(\u001b[49m\u001b[38;5;241;43m*\u001b[39;49m\u001b[38;5;28;43minput\u001b[39;49m\u001b[43m,\u001b[49m\u001b[43m \u001b[49m\u001b[38;5;241;43m*\u001b[39;49m\u001b[38;5;241;43m*\u001b[39;49m\u001b[43mkwargs\u001b[49m\u001b[43m)\u001b[49m\n\u001b[1;32m   1131\u001b[0m \u001b[38;5;66;03m# Do not call functions when jit is used\u001b[39;00m\n\u001b[1;32m   1132\u001b[0m full_backward_hooks, non_full_backward_hooks \u001b[38;5;241m=\u001b[39m [], []\n",
      "File \u001b[0;32m~/anaconda3/envs/pytorch_geometric/lib/python3.8/site-packages/torch_geometric/nn/conv/gcn_conv.py:194\u001b[0m, in \u001b[0;36mGCNConv.forward\u001b[0;34m(self, x, edge_index, edge_weight)\u001b[0m\n\u001b[1;32m    191\u001b[0m x \u001b[38;5;241m=\u001b[39m \u001b[38;5;28mself\u001b[39m\u001b[38;5;241m.\u001b[39mlin(x)\n\u001b[1;32m    193\u001b[0m \u001b[38;5;66;03m# propagate_type: (x: Tensor, edge_weight: OptTensor)\u001b[39;00m\n\u001b[0;32m--> 194\u001b[0m out \u001b[38;5;241m=\u001b[39m \u001b[38;5;28;43mself\u001b[39;49m\u001b[38;5;241;43m.\u001b[39;49m\u001b[43mpropagate\u001b[49m\u001b[43m(\u001b[49m\u001b[43medge_index\u001b[49m\u001b[43m,\u001b[49m\u001b[43m \u001b[49m\u001b[43mx\u001b[49m\u001b[38;5;241;43m=\u001b[39;49m\u001b[43mx\u001b[49m\u001b[43m,\u001b[49m\u001b[43m \u001b[49m\u001b[43medge_weight\u001b[49m\u001b[38;5;241;43m=\u001b[39;49m\u001b[43medge_weight\u001b[49m\u001b[43m,\u001b[49m\n\u001b[1;32m    195\u001b[0m \u001b[43m                     \u001b[49m\u001b[43msize\u001b[49m\u001b[38;5;241;43m=\u001b[39;49m\u001b[38;5;28;43;01mNone\u001b[39;49;00m\u001b[43m)\u001b[49m\n\u001b[1;32m    197\u001b[0m \u001b[38;5;28;01mif\u001b[39;00m \u001b[38;5;28mself\u001b[39m\u001b[38;5;241m.\u001b[39mbias \u001b[38;5;129;01mis\u001b[39;00m \u001b[38;5;129;01mnot\u001b[39;00m \u001b[38;5;28;01mNone\u001b[39;00m:\n\u001b[1;32m    198\u001b[0m     out \u001b[38;5;241m+\u001b[39m\u001b[38;5;241m=\u001b[39m \u001b[38;5;28mself\u001b[39m\u001b[38;5;241m.\u001b[39mbias\n",
      "File \u001b[0;32m~/anaconda3/envs/pytorch_geometric/lib/python3.8/site-packages/torch_geometric/nn/conv/message_passing.py:309\u001b[0m, in \u001b[0;36mMessagePassing.propagate\u001b[0;34m(self, edge_index, size, **kwargs)\u001b[0m\n\u001b[1;32m    306\u001b[0m     \u001b[38;5;28;01mfor\u001b[39;00m arg \u001b[38;5;129;01min\u001b[39;00m decomp_args:\n\u001b[1;32m    307\u001b[0m         kwargs[arg] \u001b[38;5;241m=\u001b[39m decomp_kwargs[arg][i]\n\u001b[0;32m--> 309\u001b[0m coll_dict \u001b[38;5;241m=\u001b[39m \u001b[38;5;28;43mself\u001b[39;49m\u001b[38;5;241;43m.\u001b[39;49m\u001b[43m__collect__\u001b[49m\u001b[43m(\u001b[49m\u001b[38;5;28;43mself\u001b[39;49m\u001b[38;5;241;43m.\u001b[39;49m\u001b[43m__user_args__\u001b[49m\u001b[43m,\u001b[49m\u001b[43m \u001b[49m\u001b[43medge_index\u001b[49m\u001b[43m,\u001b[49m\n\u001b[1;32m    310\u001b[0m \u001b[43m                             \u001b[49m\u001b[43msize\u001b[49m\u001b[43m,\u001b[49m\u001b[43m \u001b[49m\u001b[43mkwargs\u001b[49m\u001b[43m)\u001b[49m\n\u001b[1;32m    312\u001b[0m msg_kwargs \u001b[38;5;241m=\u001b[39m \u001b[38;5;28mself\u001b[39m\u001b[38;5;241m.\u001b[39minspector\u001b[38;5;241m.\u001b[39mdistribute(\u001b[38;5;124m'\u001b[39m\u001b[38;5;124mmessage\u001b[39m\u001b[38;5;124m'\u001b[39m, coll_dict)\n\u001b[1;32m    313\u001b[0m \u001b[38;5;28;01mfor\u001b[39;00m hook \u001b[38;5;129;01min\u001b[39;00m \u001b[38;5;28mself\u001b[39m\u001b[38;5;241m.\u001b[39m_message_forward_pre_hooks\u001b[38;5;241m.\u001b[39mvalues():\n",
      "File \u001b[0;32m~/anaconda3/envs/pytorch_geometric/lib/python3.8/site-packages/torch_geometric/nn/conv/message_passing.py:202\u001b[0m, in \u001b[0;36mMessagePassing.__collect__\u001b[0;34m(self, args, edge_index, size, kwargs)\u001b[0m\n\u001b[1;32m    200\u001b[0m         \u001b[38;5;28;01mif\u001b[39;00m \u001b[38;5;28misinstance\u001b[39m(data, Tensor):\n\u001b[1;32m    201\u001b[0m             \u001b[38;5;28mself\u001b[39m\u001b[38;5;241m.\u001b[39m__set_size__(size, dim, data)\n\u001b[0;32m--> 202\u001b[0m             data \u001b[38;5;241m=\u001b[39m \u001b[38;5;28;43mself\u001b[39;49m\u001b[38;5;241;43m.\u001b[39;49m\u001b[43m__lift__\u001b[49m\u001b[43m(\u001b[49m\u001b[43mdata\u001b[49m\u001b[43m,\u001b[49m\u001b[43m \u001b[49m\u001b[43medge_index\u001b[49m\u001b[43m,\u001b[49m\u001b[43m \u001b[49m\u001b[43mdim\u001b[49m\u001b[43m)\u001b[49m\n\u001b[1;32m    204\u001b[0m         out[arg] \u001b[38;5;241m=\u001b[39m data\n\u001b[1;32m    206\u001b[0m \u001b[38;5;28;01mif\u001b[39;00m \u001b[38;5;28misinstance\u001b[39m(edge_index, Tensor):\n",
      "File \u001b[0;32m~/anaconda3/envs/pytorch_geometric/lib/python3.8/site-packages/torch_geometric/nn/conv/message_passing.py:172\u001b[0m, in \u001b[0;36mMessagePassing.__lift__\u001b[0;34m(self, src, edge_index, dim)\u001b[0m\n\u001b[1;32m    170\u001b[0m \u001b[38;5;28;01mif\u001b[39;00m \u001b[38;5;28misinstance\u001b[39m(edge_index, Tensor):\n\u001b[1;32m    171\u001b[0m     index \u001b[38;5;241m=\u001b[39m edge_index[dim]\n\u001b[0;32m--> 172\u001b[0m     \u001b[38;5;28;01mreturn\u001b[39;00m \u001b[43msrc\u001b[49m\u001b[38;5;241;43m.\u001b[39;49m\u001b[43mindex_select\u001b[49m\u001b[43m(\u001b[49m\u001b[38;5;28;43mself\u001b[39;49m\u001b[38;5;241;43m.\u001b[39;49m\u001b[43mnode_dim\u001b[49m\u001b[43m,\u001b[49m\u001b[43m \u001b[49m\u001b[43mindex\u001b[49m\u001b[43m)\u001b[49m\n\u001b[1;32m    173\u001b[0m \u001b[38;5;28;01melif\u001b[39;00m \u001b[38;5;28misinstance\u001b[39m(edge_index, SparseTensor):\n\u001b[1;32m    174\u001b[0m     \u001b[38;5;28;01mif\u001b[39;00m dim \u001b[38;5;241m==\u001b[39m \u001b[38;5;241m1\u001b[39m:\n",
      "\u001b[0;31mRuntimeError\u001b[0m: Expected all tensors to be on the same device, but found at least two devices, cuda:0 and cpu! (when checking argument for argument index in method wrapper__index_select)"
     ]
    }
   ],
   "source": [
    "bar = tqdm(np.arange(50000))\n",
    "\n",
    "writer = get_tensorboard_logger(\"ReinforceLunarLander\")\n",
    "optimizer = ReinforceOptimizer(policy, lr=0.001)\n",
    "\n",
    "for i in bar:\n",
    "    observations, actions, rewards = optimizer.rollout(reinforce_rollout, env_name = \"LunarLander-v2\")\n",
    "\n",
    "    torch_observations = torch.from_numpy(observations).to(policy.device)\n",
    "    torch_actions = torch.from_numpy(actions).float().to(policy.device)\n",
    "    torch_rewards = torch.from_numpy(rewards).float().to(policy.device)\n",
    "\n",
    "\n",
    "    optimizer.zero_grad()\n",
    "    loss = optimizer.loss_fn(torch_observations, torch_actions, torch_rewards)\n",
    "    loss.backward()\n",
    "    torch.nn.utils.clip_grad_norm_(policy.parameters(), 10.0)\n",
    "    optimizer.step()\n",
    "\n",
    "    # metrics\n",
    "\n",
    "    grad_dict = {}\n",
    "    for n, W in policy.named_parameters():\n",
    "        if W.grad is not None:\n",
    "            grad_dict[\"{}_grad\".format(n)] = float(torch.sum(W.grad).item())\n",
    "\n",
    "    loss = loss.item()\n",
    "    sum_reward = np.sum(rewards)\n",
    "\n",
    "    metrics_dict = {\"loss\":loss, \"sum_reward\":sum_reward, **grad_dict}\n",
    "\n",
    "    for key in metrics_dict:\n",
    "        writer.add_scalar(key, metrics_dict[key], i)\n",
    "\n",
    "\n",
    "    bar.set_description(\"Loss: {}, Reward: {}\".format(loss, sum_reward))"
   ]
  }
 ],
 "metadata": {
  "kernelspec": {
   "display_name": "env",
   "language": "python",
   "name": "python3"
  },
  "language_info": {
   "codemirror_mode": {
    "name": "ipython",
    "version": 3
   },
   "file_extension": ".py",
   "mimetype": "text/x-python",
   "name": "python",
   "nbconvert_exporter": "python",
   "pygments_lexer": "ipython3",
   "version": "3.10.12"
  }
 },
 "nbformat": 4,
 "nbformat_minor": 5
}
